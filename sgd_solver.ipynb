{
 "cells": [
  {
   "cell_type": "markdown",
   "id": "3480639e-082d-422d-92d7-864f9de5ec45",
   "metadata": {},
   "source": [
    "Create a baseline model which will be used to hotstart training for SWA-related implementations"
   ]
  },
  {
   "cell_type": "code",
   "execution_count": 6,
   "id": "1a9ce624",
   "metadata": {},
   "outputs": [
    {
     "name": "stdout",
     "output_type": "stream",
     "text": [
      "Using device cuda\n"
     ]
    }
   ],
   "source": [
    "from loaders import (\n",
    "    tiny_imagenet_train_loader, \n",
    "    tiny_imagenet_val_loader,\n",
    "    tiny_imagenet_corrupted_loader\n",
    ")\n",
    "import torch\n",
    "from torchvision import models\n",
    "from torch.nn import CrossEntropyLoss\n",
    "from torch.optim import SGD\n",
    "from torch.optim.swa_utils import AveragedModel, SWALR\n",
    "from tqdm.notebook import tqdm\n",
    "\n",
    "device = torch.device(\"cuda\" if torch.cuda.is_available() else \"cpu\")\n",
    "print(f\"Using device {device}\")"
   ]
  },
  {
   "cell_type": "code",
   "execution_count": null,
   "id": "a6489f86",
   "metadata": {},
   "outputs": [],
   "source": [
    "# Base model parameters\n",
    "NUM_CLASSES = 200\n",
    "\n",
    "train_loader = tiny_imagenet_train_loader(batch_size=128, num_workers=1)\n",
    "val_loader = tiny_imagenet_val_loader(batch_size=128, num_workers=1)\n",
    "model = models.resnet18()\n",
    "model.fc = torch.nn.Linear(model.fc.in_features, NUM_CLASSES)\n",
    "optimizer = SGD(model.parameters(), lr=0.01)\n",
    "loss_fn = CrossEntropyLoss()\n",
    "\n",
    "epochs = 100\n",
    "\n",
    "model.to(device)"
   ]
  },
  {
   "cell_type": "code",
   "execution_count": null,
   "id": "45112f08",
   "metadata": {},
   "outputs": [],
   "source": [
    "# Check the model parameters\n",
    "num_params = sum(p.numel() for p in model.parameters() if p.requires_grad)\n",
    "print(num_params)"
   ]
  },
  {
   "cell_type": "code",
   "execution_count": null,
   "id": "f58a99f6-2582-40a9-91bb-1f51e95188b5",
   "metadata": {},
   "outputs": [],
   "source": [
    "# Validation\n",
    "def validate(model, loader):\n",
    "    model.evaluate()\n",
    "    with torch.no_grad():\n",
    "        for images, labels in loader:\n",
    "            prediction = model(images)\n",
    "            "
   ]
  },
  {
   "cell_type": "code",
   "execution_count": null,
   "id": "293df392",
   "metadata": {},
   "outputs": [],
   "source": [
    "# Train the model on ImageNet\n",
    "for epoch in tqdm(range(epochs), desc=\"Training\", leave=False):\n",
    "    print(f\"Epoch {epoch + 1}/{epochs}\")\n",
    "    \n",
    "    for images, labels in train_loader:\n",
    "        images, labels = images.to(device), labels.to(device)\n",
    "\n",
    "        optimizer.zero_grad()\n",
    "        loss_fn(model(images), labels).backward()\n",
    "        optimizer.step() \n",
    "\n",
    "    if epoch % 5 == 0:\n",
    "        torch.save(model.state_dict(), \"./models/sgd_model2.pt\")"
   ]
  },
  {
   "cell_type": "code",
   "execution_count": null,
   "id": "05ecc714-a90b-4daa-aa05-f3701523a481",
   "metadata": {},
   "outputs": [],
   "source": [
    "# Save the model\n",
    "torch.save(model.state_dict(), \"./models/sgd_model2.pt\")"
   ]
  },
  {
   "cell_type": "code",
   "execution_count": 15,
   "id": "c729fe59-2832-48ca-9683-1917dd07ffad",
   "metadata": {},
   "outputs": [],
   "source": [
    "def evaluate_model(model, loader):\n",
    "    \"\"\" Return the accuracy of the model on the given data set (percentage correct labels assigned) \"\"\"\n",
    "    total_correct = 0\n",
    "    total = 0\n",
    "    model.eval()\n",
    "    with torch.no_grad():\n",
    "        for images, labels in tqdm(loader, desc=\"Testing\", leave=False):\n",
    "            images, labels = images.to(device), labels.to(device)\n",
    "            prediction = model(images)\n",
    "            correct = (torch.argmax(prediction, dim=1) == labels).sum()\n",
    "            total += 128\n",
    "            total_correct += correct\n",
    "            print(torch.argmax(prediction, dim=1))\n",
    "            print(labels)\n",
    "            break\n",
    "\n",
    "    return total_correct/total"
   ]
  },
  {
   "cell_type": "code",
   "execution_count": 16,
   "id": "44f658fe-be6c-4dba-8e76-d8d4434f5113",
   "metadata": {},
   "outputs": [
    {
     "data": {
      "application/vnd.jupyter.widget-view+json": {
       "model_id": "4d00afe7517d4f15a493e7e43fadea71",
       "version_major": 2,
       "version_minor": 0
      },
      "text/plain": [
       "Testing:   0%|          | 0/79 [00:00<?, ?it/s]"
      ]
     },
     "metadata": {},
     "output_type": "display_data"
    },
    {
     "name": "stdout",
     "output_type": "stream",
     "text": [
      "tensor([183, 168, 125,   3, 112, 192, 194, 153,  24, 115, 128,  95, 148,   4,\n",
      "        129,  68,  94, 100,   4,  56, 132,  10, 134, 169,  64, 178, 199,  44,\n",
      "        106,  63, 156, 129,  18, 173, 184,   5,   7, 117, 197,  34,   5,  68,\n",
      "         20,  58, 114,   1, 151,  59, 149, 105,  17,  65, 196,   9, 138,  78,\n",
      "        131,  23,  20, 178, 100, 116, 170, 197, 117, 142,  61,   1,  57,  44,\n",
      "         75,  19,  18, 116,  98, 146, 135,  85, 116,   6, 170, 127, 146,  87,\n",
      "         99, 162,  11,   5, 141,  43, 170,  49, 113, 144, 108, 127,   0, 105,\n",
      "          8,  19,  29, 169, 187,  80,  63, 113, 108,  17, 128, 102,  70, 188,\n",
      "        178,  53,  99,  11,  72,  95, 159,  20,  25, 169,  23,  34, 122, 103,\n",
      "        146,  70], device='cuda:0')\n",
      "tensor([ 84,  36,  80, 132, 191, 192,  32, 166,  73, 135, 116, 189,  13, 114,\n",
      "          2, 199,  26,  67, 181,  89, 114,  97, 175,   6,  26, 183, 192,  35,\n",
      "         75, 197,  37,  22,  20,  57,  51,  29,  36,  99, 180, 100, 151, 128,\n",
      "         21, 124,  92,  42, 173, 109, 116, 144, 156, 133, 193,  82, 122, 150,\n",
      "          9,  68,   8, 183, 121,  88, 187,  49,  13, 132, 131, 165,  72,  56,\n",
      "         12, 165, 143,  16, 106, 174,  77, 102, 161, 154,  55,  84,  24,  96,\n",
      "        195,  32, 187, 130,  96, 159,  22,  46,  29,  66,  11,  57,  56, 181,\n",
      "        166,  31, 169, 186,  96, 180, 148, 161, 161,  98,  33,  53, 135, 130,\n",
      "        151,  67, 125, 146, 135,   9,  37,  52,  25,  36,  99,  43, 142,  23,\n",
      "         15, 143], device='cuda:0')\n",
      "Val Accuracy: 0.015625\n"
     ]
    }
   ],
   "source": [
    "model = models.resnet18()\n",
    "# model.fc = nn.Linear(model.fc.in_features, NUM_CLASSES)\n",
    "model.load_state_dict(torch.load(\"./models/sgd_model.pt\", weights_only=True))\n",
    "model.to(device)\n",
    "\n",
    "val_accuracy = evaluate_model(model, val_loader)\n",
    "print(f\"Val Accuracy: {val_accuracy}\")\n"
   ]
  },
  {
   "cell_type": "code",
   "execution_count": null,
   "id": "804f1736-664c-4c43-a576-bbc4ecdf4cc6",
   "metadata": {},
   "outputs": [],
   "source": [
    "print(\"Test Accuracy:\")\n",
    "\n",
    "corruptions = [\"brightness\", \"contrast\", \"defocus_blur\"]\n",
    "\n",
    "for corruption in corruptions:\n",
    "    for level in range(1, 3):\n",
    "        test_loader = tiny_imagenet_corrupted_loader(\n",
    "            corruption,\n",
    "            severity=level,\n",
    "            batch_size=128,\n",
    "            root='./data/Tiny-ImageNet-C',\n",
    "            num_workers=1\n",
    "        )\n",
    "        test_accuracy = evaluate_model(model, test_loader)\n",
    "    \n",
    "        print(f\"{corruption} L{level}: {test_accuracy}\")"
   ]
  }
 ],
 "metadata": {
  "kernelspec": {
   "display_name": "Python [conda env:.conda-pml_env_dist] *",
   "language": "python",
   "name": "conda-env-.conda-pml_env_dist-py"
  },
  "language_info": {
   "codemirror_mode": {
    "name": "ipython",
    "version": 3
   },
   "file_extension": ".py",
   "mimetype": "text/x-python",
   "name": "python",
   "nbconvert_exporter": "python",
   "pygments_lexer": "ipython3",
   "version": "3.13.3"
  }
 },
 "nbformat": 4,
 "nbformat_minor": 5
}
