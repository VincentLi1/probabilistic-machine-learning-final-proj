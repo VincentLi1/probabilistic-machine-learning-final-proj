{
 "cells": [
  {
   "cell_type": "code",
   "execution_count": 1,
   "id": "8f946857-a65e-489f-aa75-f15f4355ab6e",
   "metadata": {},
   "outputs": [
    {
     "name": "stdout",
     "output_type": "stream",
     "text": [
      "cuda\n"
     ]
    }
   ],
   "source": [
    "import torch, torchvision\n",
    "import torch.nn as nn\n",
    "import torch.nn.functional as F\n",
    "from torchmetrics.classification import (\n",
    "    MulticlassAccuracy,\n",
    "    # MulticlassNegativeLogLikelihood,\n",
    "    # MulticlassBrierScoreLoss,\n",
    "    MulticlassCalibrationError,\n",
    ")\n",
    "from pathlib import Path\n",
    "from loaders import (\n",
    "    tiny_imagenet_train_loader, \n",
    "    tiny_imagenet_val_loader,\n",
    "    tiny_imagenet_corrupted_loader\n",
    ")\n",
    "device = \"cuda\" if torch.cuda.is_available() else \"cpu\"\n",
    "print(device)\n",
    "\n",
    "from tqdm.notebook import tqdm"
   ]
  },
  {
   "cell_type": "code",
   "execution_count": 2,
   "id": "64fb3770-d613-4a76-8ed1-b4f9ec3dd9e5",
   "metadata": {},
   "outputs": [],
   "source": [
    "# ---- Data --------------------------------------------------------------------\n",
    "BATCH_TRAIN = 128\n",
    "BATCH_VAL  = 128\n",
    "\n",
    "train_loader = tiny_imagenet_train_loader(batch_size=BATCH_TRAIN)\n",
    "val_loader   = tiny_imagenet_val_loader(batch_size=BATCH_VAL)\n",
    "\n",
    "NUM_CLASSES = 200"
   ]
  },
  {
   "cell_type": "code",
   "execution_count": 4,
   "id": "de37c560-8460-45ed-b317-fd6ffbb059dc",
   "metadata": {},
   "outputs": [
    {
     "name": "stdout",
     "output_type": "stream",
     "text": [
      "tensor([172, 198, 143, 159, 124,  71, 199, 142, 172,  73, 108,   3, 162,  69,\n",
      "         70, 115,  58,  40, 160, 146, 113, 182, 147,  11, 118,  72, 159,   0,\n",
      "         97, 163,  10, 138,  56, 130,  14, 169, 130,  34,  83, 149, 129, 125,\n",
      "         80, 177, 174, 126, 148, 155,  39,  87, 104,   1,  84, 191,  65,  90,\n",
      "        193,  37, 194, 194,  27, 163,  12, 123,  76,  96,  16,  56,  23, 129,\n",
      "        159, 197, 172, 154, 183, 117, 144,   1, 111, 181,  52,  74,  53,  94,\n",
      "        169, 126, 168,  69,  12, 100, 156,  84, 187, 109,  58,  99, 173, 159,\n",
      "         92,  87, 161, 161, 112,  79,  23, 150, 111, 153, 119,  69,  88,  86,\n",
      "         60, 130,  43, 130, 136, 144, 166, 177,  93,  20,  39, 180, 151, 194,\n",
      "         59, 158])\n"
     ]
    }
   ],
   "source": [
    "for samples, labels in train_loader:\n",
    "    print(labels)\n",
    "    break"
   ]
  },
  {
   "cell_type": "code",
   "execution_count": 6,
   "id": "4f69af11-3fd9-4aba-9ee2-506d5010fc53",
   "metadata": {},
   "outputs": [
    {
     "name": "stdout",
     "output_type": "stream",
     "text": [
      "tensor([ 25, 189,  25, 124, 123,  60,  86, 168, 155,  85,  18,  70, 129, 152,\n",
      "        117,  77,  39, 146, 144, 176,  92,  91,  12, 100, 144,  70, 188, 160,\n",
      "         23,  50, 199, 180,  25,   4,   5,  19, 114, 137,  18, 104,  77, 159,\n",
      "          0, 171, 155, 144, 157,  97, 131,  33,  36,  58,   6,  80, 156,  33,\n",
      "         95,  47,  44, 177,  16,  62,  89,  94,   8, 165,  98, 160, 157,  22,\n",
      "        174, 147,  50, 166, 106, 185,  22, 111, 110, 189,  41,  61, 165,  74,\n",
      "         14, 167, 166, 136, 172,  51, 150,   8, 153, 106,  48,  72,   1, 107,\n",
      "        106,   6, 140, 158, 181,  78,  17, 146, 143,  99,  88, 132,  12, 132,\n",
      "         99, 162, 125, 120,  28,  60, 157, 192, 164,  98, 105,  73, 105, 166,\n",
      "         36, 132])\n"
     ]
    }
   ],
   "source": [
    "for samples, labels in val_loader:\n",
    "    print(labels)\n",
    "    break"
   ]
  }
 ],
 "metadata": {
  "kernelspec": {
   "display_name": "Python [conda env:.conda-pml_env_dist] *",
   "language": "python",
   "name": "conda-env-.conda-pml_env_dist-py"
  },
  "language_info": {
   "codemirror_mode": {
    "name": "ipython",
    "version": 3
   },
   "file_extension": ".py",
   "mimetype": "text/x-python",
   "name": "python",
   "nbconvert_exporter": "python",
   "pygments_lexer": "ipython3",
   "version": "3.13.3"
  }
 },
 "nbformat": 4,
 "nbformat_minor": 5
}
