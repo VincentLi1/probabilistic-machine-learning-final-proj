{
 "cells": [
  {
   "cell_type": "code",
   "execution_count": 6,
   "id": "1a9ce624",
   "metadata": {},
   "outputs": [],
   "source": [
    "from loaders import tiny_imagenet_loader, tiny_imagenet_corrupted_loader\n",
    "import torch\n",
    "from torchvision import models\n",
    "from torch.nn import CrossEntropyLoss\n",
    "from torch.optim import SGD\n",
    "from torch.optim.swa_utils import AveragedModel, SWALR\n",
    "from tqdm.notebook import tqdm"
   ]
  },
  {
   "cell_type": "code",
   "execution_count": 11,
   "id": "a6489f86",
   "metadata": {},
   "outputs": [
    {
     "name": "stdout",
     "output_type": "stream",
     "text": [
      "Using device cuda\n"
     ]
    }
   ],
   "source": [
    "# Base model parameters\n",
    "loader = tiny_imagenet_loader(train=True, batch_size=128, num_workers=4)\n",
    "model = models.resnet18()\n",
    "optimizer = SGD(model.parameters(), lr=0.01)\n",
    "loss_fn = CrossEntropyLoss()\n",
    "device = torch.device(\"cuda\" if torch.cuda.is_available() else \"cpu\")\n",
    "print(f\"Using device {device}\")\n",
    "epochs = 300\n",
    "\n",
    "# SWA parameters\n",
    "swa_model = AveragedModel(model)\n",
    "\n",
    "model.to(device)\n",
    "swa_model.to(device)\n",
    "\n",
    "# TODO: Review documentation (Comes from SWA paper)\n",
    "scheduler = torch.optim.lr_scheduler.CosineAnnealingLR(optimizer, T_max=300)\n",
    "swa_start = 160\n",
    "swa_scheduler = SWALR(optimizer, swa_lr=0.05)"
   ]
  },
  {
   "cell_type": "code",
   "execution_count": null,
   "id": "45112f08",
   "metadata": {},
   "outputs": [
    {
     "name": "stdout",
     "output_type": "stream",
     "text": [
      "11689512\n"
     ]
    }
   ],
   "source": [
    "# Check the model parameters\n",
    "num_params = sum(p.numel() for p in model.parameters() if p.requires_grad)\n",
    "print(num_params)"
   ]
  },
  {
   "cell_type": "code",
   "execution_count": null,
   "id": "293df392",
   "metadata": {},
   "outputs": [],
   "source": [
    "# Train the model on ImageNet\n",
    "for epoch in tqdm(range(epochs), desc=\"Training\", leave=False):\n",
    "    print(f\"Epoch {epoch + 1}/{epochs}\")\n",
    "    \n",
    "    for images, labels in loader:\n",
    "        images, labels = images.to(device), labels.to(device)\n",
    "\n",
    "        optimizer.zero_grad()\n",
    "        loss_fn(model(images), labels).backward()\n",
    "        optimizer.step()\n",
    "    \n",
    "    # Schedule learning rate with SWA\n",
    "    if epoch > swa_start:\n",
    "        swa_model.update_parameters(model)\n",
    "        swa_scheduler.step()\n",
    "    else:\n",
    "        scheduler.step()"
   ]
  },
  {
   "cell_type": "markdown",
   "id": "f83795de",
   "metadata": {},
   "source": [
    "2. On the test set of corrupted images, compute the adapted parameters\n",
    "$$\\hat{\\theta_i} = \\arg\\max_{\\theta} \\frac{\\tilde{\\alpha}}{m}\\sum_{j=1}^m -H(Y\\mid \\tilde{x}_j,\\theta) + \\log q_i(\\theta)$$"
   ]
  },
  {
   "cell_type": "code",
   "execution_count": null,
   "id": "ddf0e3d2",
   "metadata": {},
   "outputs": [],
   "source": [
    "# "
   ]
  },
  {
   "cell_type": "markdown",
   "id": "d09d8e15",
   "metadata": {},
   "source": [
    "3. For each test input $\\tilde{x}_j$, marginalize over ensemble\n",
    "$$P(y\\mid\\tilde{x_j}) = \\frac{1}{k}\\sum_{i=1}^k P(y\\mid\\tilde{x_j}, \\hat{\\theta_i})$$"
   ]
  },
  {
   "cell_type": "code",
   "execution_count": null,
   "id": "236b6ae8",
   "metadata": {},
   "outputs": [],
   "source": []
  }
 ],
 "metadata": {
  "kernelspec": {
   "display_name": "coins_env",
   "language": "python",
   "name": "python3"
  },
  "language_info": {
   "codemirror_mode": {
    "name": "ipython",
    "version": 3
   },
   "file_extension": ".py",
   "mimetype": "text/x-python",
   "name": "python",
   "nbconvert_exporter": "python",
   "pygments_lexer": "ipython3",
   "version": "3.9.18"
  }
 },
 "nbformat": 4,
 "nbformat_minor": 5
}
