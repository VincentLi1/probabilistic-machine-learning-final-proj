{
 "cells": [
  {
   "cell_type": "code",
   "execution_count": 6,
   "id": "1a9ce624",
   "metadata": {},
   "outputs": [],
   "source": [
    "from loaders import tiny_imagenet_loader, tiny_imagenet_corrupted_loader\n",
    "import torch\n",
    "from torchvision import models\n",
    "from torch.nn import CrossEntropyLoss\n",
    "from torch.optim import SGD\n",
    "from torch.optim.swa_utils import AveragedModel, SWALR\n",
    "from tqdm.notebook import tqdm"
   ]
  },
  {
   "cell_type": "code",
   "execution_count": 11,
   "id": "a6489f86",
   "metadata": {},
   "outputs": [
    {
     "name": "stdout",
     "output_type": "stream",
     "text": [
      "Using device cuda\n"
     ]
    }
   ],
   "source": [
    "# Base model parameters\n",
    "loader = tiny_imagenet_loader(train=True, batch_size=128, num_workers=4)\n",
    "model = models.resnet18()\n",
    "optimizer = SGD(model.parameters(), lr=0.01)\n",
    "loss_fn = CrossEntropyLoss()\n",
    "device = torch.device(\"cuda\" if torch.cuda.is_available() else \"cpu\")\n",
    "print(f\"Using device {device}\")\n",
    "epochs = 300\n",
    "\n",
    "# SWA parameters\n",
    "swa_model = AveragedModel(model)\n",
    "\n",
    "model.to(device)\n",
    "swa_model.to(device)\n",
    "\n",
    "# TODO: Review documentation (Comes from SWA paper)\n",
    "scheduler = torch.optim.lr_scheduler.CosineAnnealingLR(optimizer, T_max=300)\n",
    "swa_start = 160\n",
    "swa_scheduler = SWALR(optimizer, swa_lr=0.05)"
   ]
  },
  {
   "cell_type": "code",
   "execution_count": null,
   "id": "45112f08",
   "metadata": {},
   "outputs": [
    {
     "name": "stdout",
     "output_type": "stream",
     "text": [
      "11689512\n"
     ]
    }
   ],
   "source": [
    "# Check the model parameters\n",
    "num_params = sum(p.numel() for p in model.parameters() if p.requires_grad)\n",
    "print(num_params)"
   ]
  },
  {
   "cell_type": "code",
   "execution_count": null,
   "id": "293df392",
   "metadata": {},
   "outputs": [],
   "source": [
    "# Train the model on ImageNet\n",
    "for epoch in tqdm(range(epochs), desc=\"Training\", leave=False):\n",
    "    print(f\"Epoch {epoch + 1}/{epochs}\")\n",
    "    \n",
    "    for images, labels in loader:\n",
    "        images, labels = images.to(device), labels.to(device)\n",
    "\n",
    "        optimizer.zero_grad()\n",
    "        loss_fn(model(images), labels).backward()\n",
    "        optimizer.step()\n",
    "    \n",
    "    # Schedule learning rate with SWA\n",
    "    if epoch > swa_start:\n",
    "        swa_model.update_parameters(model)\n",
    "        swa_scheduler.step()\n",
    "    else:\n",
    "        scheduler.step()"
   ]
  },
  {
   "cell_type": "markdown",
   "id": "f83795de",
   "metadata": {},
   "source": [
    "2. On the test set of corrupted images, compute the adapted parameters\n",
    "$$\\hat{\\theta_i} = \\arg\\max_{\\theta} \\frac{\\tilde{\\alpha}}{m}\\sum_{j=1}^m -H(Y\\mid \\tilde{x}_j,\\theta) + \\log q_i(\\theta)$$\n",
    "\n",
    "For $q$ Gaussian with mean $\\mu$ and covariance $C$,\n",
    "$$q(\\theta) = (2\\pi)^{-d/2}\\text{det}(C)^{-1/2}\\exp(-\\frac{1}{2}(\\theta-\\mu)C^{-1}(\\theta-\\mu))$$\n",
    "$$\\log q(\\theta) = \\log ((2\\pi)^{-d/2}\\text{det}(C)^{-1/2}) -\\frac{1}{2}(\\theta-\\mu)C^{-1}(\\theta-\\mu))$$\n",
    "\n",
    "Then the explicit form to minimize is\n",
    "$$\\hat{\\theta_i} = \\arg\\min_{\\theta} \\frac{\\tilde{\\alpha}}{m}\\sum_{j=1}^m \\sum_{y \\in Y} p(y|x,\\theta)\\log p(y|x,\\theta) + \\frac{1}{2}(\\theta-\\mu)C^{-1}(\\theta-\\mu)$$"
   ]
  },
  {
   "cell_type": "code",
   "execution_count": null,
   "id": "ddf0e3d2",
   "metadata": {},
   "outputs": [],
   "source": [
    "def test_adapted_loss_fn(model, test_samples, mean, covariance, num_classes=200, alpha=1):\n",
    "    \"\"\" Loss function for test adaptation for Bayesian Adaptation as described above \"\"\"\n",
    "\n",
    "    total_test_entropy = 0\n",
    "    for j in range(len(test_samples)):\n",
    "        for y in range(num_classes):\n",
    "            pred = model(test_samples[j])\n",
    "            total_test_entropy += pred * math.log(pred)\n",
    "\n",
    "    test_entropy_term = alpha / len(test_samples) * total_test_entropy\n",
    "\n",
    "    C_inv = torch.linalg.inv(covariance)\n",
    "\n",
    "    flat_params = torch.cat([p.view(-1) for p in model.parameters()])\n",
    "\n",
    "    train_entropy_term = 0.5 * (flat_params - mean) @ C_inv @ (flat_params - mean)\n",
    "\n",
    "    return test_entropy_term + train_entropy_term\n",
    "    \n",
    "\n",
    "def test_adaptation(model, test_loader):\n",
    "    \"\"\" Take the baseline model and test loader, output a new model that is adapted to the test set \"\"\"\n",
    "\n",
    "    "
   ]
  },
  {
   "cell_type": "markdown",
   "id": "d09d8e15",
   "metadata": {},
   "source": [
    "3. For each test input $\\tilde{x}_j$, marginalize over ensemble\n",
    "$$P(y\\mid\\tilde{x_j}) = \\frac{1}{k}\\sum_{i=1}^k P(y\\mid\\tilde{x_j}, \\hat{\\theta_i})$$"
   ]
  },
  {
   "cell_type": "code",
   "execution_count": 1,
   "id": "236b6ae8",
   "metadata": {},
   "outputs": [
    {
     "ename": "_IncompleteInputError",
     "evalue": "incomplete input (1435617026.py, line 3)",
     "output_type": "error",
     "traceback": [
      "  \u001b[36mCell\u001b[39m\u001b[36m \u001b[39m\u001b[32mIn[1]\u001b[39m\u001b[32m, line 3\u001b[39m\n\u001b[31m    \u001b[39m\u001b[31mfor model in models:\u001b[39m\n                        ^\n\u001b[31m_IncompleteInputError\u001b[39m\u001b[31m:\u001b[39m incomplete input\n"
     ]
    }
   ],
   "source": [
    "def ensemble_prediction(x, models, num_classes):\n",
    "    \"\"\" Output the prediction of the ensemble of models \"\"\"\n",
    "    average_prediction = tensor.zeros(num_classes)\n",
    "    for model in models:\n",
    "        average_prediction += 1/len(models) * model(x)\n",
    "    return average_prediction    "
   ]
  }
 ],
 "metadata": {
  "kernelspec": {
   "display_name": "Python [conda env:.conda-pml_env]",
   "language": "python",
   "name": "conda-env-.conda-pml_env-py"
  },
  "language_info": {
   "codemirror_mode": {
    "name": "ipython",
    "version": 3
   },
   "file_extension": ".py",
   "mimetype": "text/x-python",
   "name": "python",
   "nbconvert_exporter": "python",
   "pygments_lexer": "ipython3",
   "version": "3.13.3"
  }
 },
 "nbformat": 4,
 "nbformat_minor": 5
}
