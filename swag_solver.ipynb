{
 "cells": [
  {
   "cell_type": "markdown",
   "id": "8e04ede0-d040-41e7-9da7-8b3e6e6c0d3e",
   "metadata": {},
   "source": [
    "SWAG solver, as outlined in \"A Simple Baseline for Bayesian Uncertainty in Deep Learning\" (Maddox et al, 2019). SWAG model code modified from the associated [GitHub](https://github.com/wjmaddox/swa_gaussian/tree/master)"
   ]
  },
  {
   "cell_type": "code",
   "execution_count": 1,
   "id": "1a9ce624",
   "metadata": {},
   "outputs": [
    {
     "name": "stdout",
     "output_type": "stream",
     "text": [
      "Using device cuda\n"
     ]
    }
   ],
   "source": [
    "from loaders import (\n",
    "    tiny_imagenet_train_loader,\n",
    "    tiny_imagenet_val_loader,\n",
    "    tiny_imagenet_corrupted_loader\n",
    ")\n",
    "import torch\n",
    "from torchvision import models\n",
    "from torch.nn import CrossEntropyLoss\n",
    "from torch.optim import SGD\n",
    "from torch.optim.swa_utils import AveragedModel, SWALR\n",
    "from tqdm.notebook import tqdm\n",
    "\n",
    "from swag.posteriors import SWAG\n",
    "\n",
    "device = torch.device(\"cuda\" if torch.cuda.is_available() else \"cpu\")\n",
    "print(f\"Using device {device}\")"
   ]
  },
  {
   "cell_type": "code",
   "execution_count": 2,
   "id": "a6489f86",
   "metadata": {},
   "outputs": [
    {
     "ename": "ValueError",
     "evalue": "optimizer got an empty parameter list",
     "output_type": "error",
     "traceback": [
      "\u001b[31m---------------------------------------------------------------------------\u001b[39m",
      "\u001b[31mValueError\u001b[39m                                Traceback (most recent call last)",
      "\u001b[36mCell\u001b[39m\u001b[36m \u001b[39m\u001b[32mIn[2]\u001b[39m\u001b[32m, line 18\u001b[39m\n\u001b[32m     14\u001b[39m model.to(device)\n\u001b[32m     17\u001b[39m \u001b[38;5;66;03m# Training details\u001b[39;00m\n\u001b[32m---> \u001b[39m\u001b[32m18\u001b[39m optimizer = \u001b[43mSGD\u001b[49m\u001b[43m(\u001b[49m\u001b[43mmodel\u001b[49m\u001b[43m.\u001b[49m\u001b[43mparameters\u001b[49m\u001b[43m(\u001b[49m\u001b[43m)\u001b[49m\u001b[43m,\u001b[49m\u001b[43m \u001b[49m\u001b[43mlr\u001b[49m\u001b[43m=\u001b[49m\u001b[32;43m0.01\u001b[39;49m\u001b[43m)\u001b[49m\n\u001b[32m     19\u001b[39m loss_fn = CrossEntropyLoss()\n\u001b[32m     23\u001b[39m \u001b[38;5;66;03m# SWAG model details\u001b[39;00m\n",
      "\u001b[36mFile \u001b[39m\u001b[32m~/.conda/envs/pml_env_dist/lib/python3.13/site-packages/torch/optim/sgd.py:63\u001b[39m, in \u001b[36mSGD.__init__\u001b[39m\u001b[34m(self, params, lr, momentum, dampening, weight_decay, nesterov, maximize, foreach, differentiable, fused)\u001b[39m\n\u001b[32m     61\u001b[39m \u001b[38;5;28;01mif\u001b[39;00m nesterov \u001b[38;5;129;01mand\u001b[39;00m (momentum <= \u001b[32m0\u001b[39m \u001b[38;5;129;01mor\u001b[39;00m dampening != \u001b[32m0\u001b[39m):\n\u001b[32m     62\u001b[39m     \u001b[38;5;28;01mraise\u001b[39;00m \u001b[38;5;167;01mValueError\u001b[39;00m(\u001b[33m\"\u001b[39m\u001b[33mNesterov momentum requires a momentum and zero dampening\u001b[39m\u001b[33m\"\u001b[39m)\n\u001b[32m---> \u001b[39m\u001b[32m63\u001b[39m \u001b[38;5;28;43msuper\u001b[39;49m\u001b[43m(\u001b[49m\u001b[43m)\u001b[49m\u001b[43m.\u001b[49m\u001b[34;43m__init__\u001b[39;49m\u001b[43m(\u001b[49m\u001b[43mparams\u001b[49m\u001b[43m,\u001b[49m\u001b[43m \u001b[49m\u001b[43mdefaults\u001b[49m\u001b[43m)\u001b[49m\n\u001b[32m     65\u001b[39m \u001b[38;5;28;01mif\u001b[39;00m fused:\n\u001b[32m     66\u001b[39m     \u001b[38;5;28mself\u001b[39m._step_supports_amp_scaling = \u001b[38;5;28;01mTrue\u001b[39;00m\n",
      "\u001b[36mFile \u001b[39m\u001b[32m~/.conda/envs/pml_env_dist/lib/python3.13/site-packages/torch/optim/optimizer.py:364\u001b[39m, in \u001b[36mOptimizer.__init__\u001b[39m\u001b[34m(self, params, defaults)\u001b[39m\n\u001b[32m    362\u001b[39m param_groups = \u001b[38;5;28mlist\u001b[39m(params)\n\u001b[32m    363\u001b[39m \u001b[38;5;28;01mif\u001b[39;00m \u001b[38;5;28mlen\u001b[39m(param_groups) == \u001b[32m0\u001b[39m:\n\u001b[32m--> \u001b[39m\u001b[32m364\u001b[39m     \u001b[38;5;28;01mraise\u001b[39;00m \u001b[38;5;167;01mValueError\u001b[39;00m(\u001b[33m\"\u001b[39m\u001b[33moptimizer got an empty parameter list\u001b[39m\u001b[33m\"\u001b[39m)\n\u001b[32m    365\u001b[39m \u001b[38;5;28;01mif\u001b[39;00m \u001b[38;5;129;01mnot\u001b[39;00m \u001b[38;5;28misinstance\u001b[39m(param_groups[\u001b[32m0\u001b[39m], \u001b[38;5;28mdict\u001b[39m):\n\u001b[32m    366\u001b[39m     param_groups = [{\u001b[33m\"\u001b[39m\u001b[33mparams\u001b[39m\u001b[33m\"\u001b[39m: param_groups}]\n",
      "\u001b[31mValueError\u001b[39m: optimizer got an empty parameter list"
     ]
    }
   ],
   "source": [
    "NUM_CLASSES = 200\n",
    "\n",
    "# Load in hotstarted model\n",
    "hotstart_path = \"./models/sgd_model.pt\"\n",
    "base_model = models.resnet18()\n",
    "# base_model.fc = torch.nn.Linear(base_model.fc.in_features, NUM_CLASSES)\n",
    "# base_model.load_state_dict(torch.load(hotstart_path, weights_only=True))\n",
    "\n",
    "# TODO: Check on the number of models\n",
    "model = SWAG(\n",
    "    base_model, \n",
    "    no_cov_mat=True,\n",
    ")\n",
    "model.to(device)\n",
    "\n",
    "\n",
    "# Training details\n",
    "optimizer = SGD(model.parameters(), lr=0.01)\n",
    "loss_fn = CrossEntropyLoss()\n",
    "\n",
    "\n",
    "\n",
    "# SWAG model details\n",
    "swa_model = AveragedModel(model)\n",
    "swa_model.to(device)\n",
    "swa_scheduler = SWALR(optimizer, swa_lr=0.05)\n",
    "\n",
    "# Remember this is the number of epochs after pretraining\n",
    "epochs = 30\n",
    "\n",
    "# Create Loaders\n",
    "train_loader = tiny_imagenet_loader(split=\"train\", batch_size=128, num_workers=1)\n",
    "val_loader = tiny_imagenet_loader(split=\"val\", batch_size=128, num_workers=1)"
   ]
  },
  {
   "cell_type": "code",
   "execution_count": null,
   "id": "293df392",
   "metadata": {},
   "outputs": [],
   "source": [
    "# Implement SAW portion of training for the model on ImageNet\n",
    "for epoch in tqdm(range(epochs), desc=\"Training\", leave=False):\n",
    "    print(f\"Epoch {epoch + 1}/{epochs}\")\n",
    "    \n",
    "    for images, labels in train_loader:\n",
    "        images, labels = images.to(device), labels.to(device)\n",
    "\n",
    "        optimizer.zero_grad()\n",
    "        loss_fn(model(images), labels).backward()\n",
    "        optimizer.step()\n",
    "    \n",
    "    # Schedule learning rate with SWA\n",
    "    swa_model.update_parameters(model)\n",
    "    swa_scheduler.step()"
   ]
  },
  {
   "cell_type": "code",
   "execution_count": null,
   "id": "05ecc714-a90b-4daa-aa05-f3701523a481",
   "metadata": {},
   "outputs": [],
   "source": [
    "# Save the model\n",
    "torch.save(model.state_dict(), \"./models/swa_model.pt\")"
   ]
  },
  {
   "cell_type": "code",
   "execution_count": null,
   "id": "c729fe59-2832-48ca-9683-1917dd07ffad",
   "metadata": {},
   "outputs": [],
   "source": [
    "def evaluate_model(model, loader):\n",
    "    \"\"\" Return the accuracy of the model on the given data set (percentage correct labels assigned) \"\"\"\n",
    "    total_correct = 0\n",
    "    total = 0\n",
    "    model.eval()\n",
    "    with torch.no_grad():\n",
    "        for images, labels in tqdm(loader, desc=\"Testing\", leave=False):\n",
    "            images, labels = images.to(device), labels.to(device)\n",
    "            prediction = model(images)\n",
    "            correct = (torch.argmax(prediction, dim=1) == labels).sum()\n",
    "            total += 128\n",
    "            total_correct += correct\n",
    "\n",
    "    return total_correct/total"
   ]
  },
  {
   "cell_type": "code",
   "execution_count": null,
   "id": "44f658fe-be6c-4dba-8e76-d8d4434f5113",
   "metadata": {},
   "outputs": [],
   "source": [
    "model = models.resnet18()\n",
    "model.load_state_dict(torch.load(\"./models/swa_model.pt\", weights_only=True))\n",
    "model.to(device)\n",
    "\n",
    "val_accuracy = evaluate_model(model, val_loader)\n",
    "print(f\"Val Accuracy: {val_accuracy}\")\n"
   ]
  },
  {
   "cell_type": "code",
   "execution_count": null,
   "id": "804f1736-664c-4c43-a576-bbc4ecdf4cc6",
   "metadata": {},
   "outputs": [],
   "source": [
    "print(\"Test Accuracy:\")\n",
    "\n",
    "corruptions = [\"brightness\", \"contrast\", \"defocus_blur\"]\n",
    "\n",
    "for corruption in corruptions:\n",
    "    for level in range(1, 3):\n",
    "        test_loader = tiny_imagenet_corrupted_loader(\n",
    "            corruption,\n",
    "            severity=level,\n",
    "            batch_size=128,\n",
    "            root='./data/Tiny-ImageNet-C',\n",
    "            num_workers=1\n",
    "        )\n",
    "        test_accuracy = evaluate_model(model, test_loader)\n",
    "    \n",
    "        print(f\"{corruption} L{level}: {test_accuracy}\")"
   ]
  }
 ],
 "metadata": {
  "kernelspec": {
   "display_name": "Python [conda env:.conda-pml_env_dist] *",
   "language": "python",
   "name": "conda-env-.conda-pml_env_dist-py"
  },
  "language_info": {
   "codemirror_mode": {
    "name": "ipython",
    "version": 3
   },
   "file_extension": ".py",
   "mimetype": "text/x-python",
   "name": "python",
   "nbconvert_exporter": "python",
   "pygments_lexer": "ipython3",
   "version": "3.13.3"
  }
 },
 "nbformat": 4,
 "nbformat_minor": 5
}
