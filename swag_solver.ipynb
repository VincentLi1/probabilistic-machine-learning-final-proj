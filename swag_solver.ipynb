{
 "cells": [
  {
   "cell_type": "markdown",
   "id": "8e04ede0-d040-41e7-9da7-8b3e6e6c0d3e",
   "metadata": {},
   "source": [
    "SWAG solver, as outlined in \"A Simple Baseline for Bayesian Uncertainty in Deep Learning\" (Maddox et al, 2019). SWAG model code modified from the associated [GitHub](https://github.com/wjmaddox/swa_gaussian/tree/master)"
   ]
  },
  {
   "cell_type": "code",
   "execution_count": 1,
   "id": "1a9ce624",
   "metadata": {},
   "outputs": [],
   "source": [
    "from loaders import tiny_imagenet_loader, tiny_imagenet_corrupted_loader\n",
    "import torch\n",
    "from torchvision import models\n",
    "from torch.nn import CrossEntropyLoss\n",
    "from torch.optim import SGD\n",
    "from torch.optim.swa_utils import AveragedModel, SWALR\n",
    "from tqdm.notebook import tqdm\n",
    "\n",
    "from swag.posteriors import SWAG"
   ]
  },
  {
   "cell_type": "code",
   "execution_count": 3,
   "id": "a6489f86",
   "metadata": {},
   "outputs": [
    {
     "ename": "RuntimeError",
     "evalue": "Error(s) in loading state_dict for SWAG:\n\tMissing key(s) in state_dict: \"n_models\", \"base.conv1.weight_mean\", \"base.conv1.weight_sq_mean\", \"base.bn1.running_mean\", \"base.bn1.running_var\", \"base.bn1.weight_mean\", \"base.bn1.weight_sq_mean\", \"base.bn1.bias_mean\", \"base.bn1.bias_sq_mean\", \"base.layer1.0.conv1.weight_mean\", \"base.layer1.0.conv1.weight_sq_mean\", \"base.layer1.0.bn1.running_mean\", \"base.layer1.0.bn1.running_var\", \"base.layer1.0.bn1.weight_mean\", \"base.layer1.0.bn1.weight_sq_mean\", \"base.layer1.0.bn1.bias_mean\", \"base.layer1.0.bn1.bias_sq_mean\", \"base.layer1.0.conv2.weight_mean\", \"base.layer1.0.conv2.weight_sq_mean\", \"base.layer1.0.bn2.running_mean\", \"base.layer1.0.bn2.running_var\", \"base.layer1.0.bn2.weight_mean\", \"base.layer1.0.bn2.weight_sq_mean\", \"base.layer1.0.bn2.bias_mean\", \"base.layer1.0.bn2.bias_sq_mean\", \"base.layer1.1.conv1.weight_mean\", \"base.layer1.1.conv1.weight_sq_mean\", \"base.layer1.1.bn1.running_mean\", \"base.layer1.1.bn1.running_var\", \"base.layer1.1.bn1.weight_mean\", \"base.layer1.1.bn1.weight_sq_mean\", \"base.layer1.1.bn1.bias_mean\", \"base.layer1.1.bn1.bias_sq_mean\", \"base.layer1.1.conv2.weight_mean\", \"base.layer1.1.conv2.weight_sq_mean\", \"base.layer1.1.bn2.running_mean\", \"base.layer1.1.bn2.running_var\", \"base.layer1.1.bn2.weight_mean\", \"base.layer1.1.bn2.weight_sq_mean\", \"base.layer1.1.bn2.bias_mean\", \"base.layer1.1.bn2.bias_sq_mean\", \"base.layer2.0.conv1.weight_mean\", \"base.layer2.0.conv1.weight_sq_mean\", \"base.layer2.0.bn1.running_mean\", \"base.layer2.0.bn1.running_var\", \"base.layer2.0.bn1.weight_mean\", \"base.layer2.0.bn1.weight_sq_mean\", \"base.layer2.0.bn1.bias_mean\", \"base.layer2.0.bn1.bias_sq_mean\", \"base.layer2.0.conv2.weight_mean\", \"base.layer2.0.conv2.weight_sq_mean\", \"base.layer2.0.bn2.running_mean\", \"base.layer2.0.bn2.running_var\", \"base.layer2.0.bn2.weight_mean\", \"base.layer2.0.bn2.weight_sq_mean\", \"base.layer2.0.bn2.bias_mean\", \"base.layer2.0.bn2.bias_sq_mean\", \"base.layer2.0.downsample.0.weight_mean\", \"base.layer2.0.downsample.0.weight_sq_mean\", \"base.layer2.0.downsample.1.running_mean\", \"base.layer2.0.downsample.1.running_var\", \"base.layer2.0.downsample.1.weight_mean\", \"base.layer2.0.downsample.1.weight_sq_mean\", \"base.layer2.0.downsample.1.bias_mean\", \"base.layer2.0.downsample.1.bias_sq_mean\", \"base.layer2.1.conv1.weight_mean\", \"base.layer2.1.conv1.weight_sq_mean\", \"base.layer2.1.bn1.running_mean\", \"base.layer2.1.bn1.running_var\", \"base.layer2.1.bn1.weight_mean\", \"base.layer2.1.bn1.weight_sq_mean\", \"base.layer2.1.bn1.bias_mean\", \"base.layer2.1.bn1.bias_sq_mean\", \"base.layer2.1.conv2.weight_mean\", \"base.layer2.1.conv2.weight_sq_mean\", \"base.layer2.1.bn2.running_mean\", \"base.layer2.1.bn2.running_var\", \"base.layer2.1.bn2.weight_mean\", \"base.layer2.1.bn2.weight_sq_mean\", \"base.layer2.1.bn2.bias_mean\", \"base.layer2.1.bn2.bias_sq_mean\", \"base.layer3.0.conv1.weight_mean\", \"base.layer3.0.conv1.weight_sq_mean\", \"base.layer3.0.bn1.running_mean\", \"base.layer3.0.bn1.running_var\", \"base.layer3.0.bn1.weight_mean\", \"base.layer3.0.bn1.weight_sq_mean\", \"base.layer3.0.bn1.bias_mean\", \"base.layer3.0.bn1.bias_sq_mean\", \"base.layer3.0.conv2.weight_mean\", \"base.layer3.0.conv2.weight_sq_mean\", \"base.layer3.0.bn2.running_mean\", \"base.layer3.0.bn2.running_var\", \"base.layer3.0.bn2.weight_mean\", \"base.layer3.0.bn2.weight_sq_mean\", \"base.layer3.0.bn2.bias_mean\", \"base.layer3.0.bn2.bias_sq_mean\", \"base.layer3.0.downsample.0.weight_mean\", \"base.layer3.0.downsample.0.weight_sq_mean\", \"base.layer3.0.downsample.1.running_mean\", \"base.layer3.0.downsample.1.running_var\", \"base.layer3.0.downsample.1.weight_mean\", \"base.layer3.0.downsample.1.weight_sq_mean\", \"base.layer3.0.downsample.1.bias_mean\", \"base.layer3.0.downsample.1.bias_sq_mean\", \"base.layer3.1.conv1.weight_mean\", \"base.layer3.1.conv1.weight_sq_mean\", \"base.layer3.1.bn1.running_mean\", \"base.layer3.1.bn1.running_var\", \"base.layer3.1.bn1.weight_mean\", \"base.layer3.1.bn1.weight_sq_mean\", \"base.layer3.1.bn1.bias_mean\", \"base.layer3.1.bn1.bias_sq_mean\", \"base.layer3.1.conv2.weight_mean\", \"base.layer3.1.conv2.weight_sq_mean\", \"base.layer3.1.bn2.running_mean\", \"base.layer3.1.bn2.running_var\", \"base.layer3.1.bn2.weight_mean\", \"base.layer3.1.bn2.weight_sq_mean\", \"base.layer3.1.bn2.bias_mean\", \"base.layer3.1.bn2.bias_sq_mean\", \"base.layer4.0.conv1.weight_mean\", \"base.layer4.0.conv1.weight_sq_mean\", \"base.layer4.0.bn1.running_mean\", \"base.layer4.0.bn1.running_var\", \"base.layer4.0.bn1.weight_mean\", \"base.layer4.0.bn1.weight_sq_mean\", \"base.layer4.0.bn1.bias_mean\", \"base.layer4.0.bn1.bias_sq_mean\", \"base.layer4.0.conv2.weight_mean\", \"base.layer4.0.conv2.weight_sq_mean\", \"base.layer4.0.bn2.running_mean\", \"base.layer4.0.bn2.running_var\", \"base.layer4.0.bn2.weight_mean\", \"base.layer4.0.bn2.weight_sq_mean\", \"base.layer4.0.bn2.bias_mean\", \"base.layer4.0.bn2.bias_sq_mean\", \"base.layer4.0.downsample.0.weight_mean\", \"base.layer4.0.downsample.0.weight_sq_mean\", \"base.layer4.0.downsample.1.running_mean\", \"base.layer4.0.downsample.1.running_var\", \"base.layer4.0.downsample.1.weight_mean\", \"base.layer4.0.downsample.1.weight_sq_mean\", \"base.layer4.0.downsample.1.bias_mean\", \"base.layer4.0.downsample.1.bias_sq_mean\", \"base.layer4.1.conv1.weight_mean\", \"base.layer4.1.conv1.weight_sq_mean\", \"base.layer4.1.bn1.running_mean\", \"base.layer4.1.bn1.running_var\", \"base.layer4.1.bn1.weight_mean\", \"base.layer4.1.bn1.weight_sq_mean\", \"base.layer4.1.bn1.bias_mean\", \"base.layer4.1.bn1.bias_sq_mean\", \"base.layer4.1.conv2.weight_mean\", \"base.layer4.1.conv2.weight_sq_mean\", \"base.layer4.1.bn2.running_mean\", \"base.layer4.1.bn2.running_var\", \"base.layer4.1.bn2.weight_mean\", \"base.layer4.1.bn2.weight_sq_mean\", \"base.layer4.1.bn2.bias_mean\", \"base.layer4.1.bn2.bias_sq_mean\", \"base.fc.weight_mean\", \"base.fc.weight_sq_mean\", \"base.fc.bias_mean\", \"base.fc.bias_sq_mean\". \n\tUnexpected key(s) in state_dict: \"conv1.weight\", \"bn1.weight\", \"bn1.bias\", \"bn1.running_mean\", \"bn1.running_var\", \"bn1.num_batches_tracked\", \"layer1.0.conv1.weight\", \"layer1.0.bn1.weight\", \"layer1.0.bn1.bias\", \"layer1.0.bn1.running_mean\", \"layer1.0.bn1.running_var\", \"layer1.0.bn1.num_batches_tracked\", \"layer1.0.conv2.weight\", \"layer1.0.bn2.weight\", \"layer1.0.bn2.bias\", \"layer1.0.bn2.running_mean\", \"layer1.0.bn2.running_var\", \"layer1.0.bn2.num_batches_tracked\", \"layer1.1.conv1.weight\", \"layer1.1.bn1.weight\", \"layer1.1.bn1.bias\", \"layer1.1.bn1.running_mean\", \"layer1.1.bn1.running_var\", \"layer1.1.bn1.num_batches_tracked\", \"layer1.1.conv2.weight\", \"layer1.1.bn2.weight\", \"layer1.1.bn2.bias\", \"layer1.1.bn2.running_mean\", \"layer1.1.bn2.running_var\", \"layer1.1.bn2.num_batches_tracked\", \"layer2.0.conv1.weight\", \"layer2.0.bn1.weight\", \"layer2.0.bn1.bias\", \"layer2.0.bn1.running_mean\", \"layer2.0.bn1.running_var\", \"layer2.0.bn1.num_batches_tracked\", \"layer2.0.conv2.weight\", \"layer2.0.bn2.weight\", \"layer2.0.bn2.bias\", \"layer2.0.bn2.running_mean\", \"layer2.0.bn2.running_var\", \"layer2.0.bn2.num_batches_tracked\", \"layer2.0.downsample.0.weight\", \"layer2.0.downsample.1.weight\", \"layer2.0.downsample.1.bias\", \"layer2.0.downsample.1.running_mean\", \"layer2.0.downsample.1.running_var\", \"layer2.0.downsample.1.num_batches_tracked\", \"layer2.1.conv1.weight\", \"layer2.1.bn1.weight\", \"layer2.1.bn1.bias\", \"layer2.1.bn1.running_mean\", \"layer2.1.bn1.running_var\", \"layer2.1.bn1.num_batches_tracked\", \"layer2.1.conv2.weight\", \"layer2.1.bn2.weight\", \"layer2.1.bn2.bias\", \"layer2.1.bn2.running_mean\", \"layer2.1.bn2.running_var\", \"layer2.1.bn2.num_batches_tracked\", \"layer3.0.conv1.weight\", \"layer3.0.bn1.weight\", \"layer3.0.bn1.bias\", \"layer3.0.bn1.running_mean\", \"layer3.0.bn1.running_var\", \"layer3.0.bn1.num_batches_tracked\", \"layer3.0.conv2.weight\", \"layer3.0.bn2.weight\", \"layer3.0.bn2.bias\", \"layer3.0.bn2.running_mean\", \"layer3.0.bn2.running_var\", \"layer3.0.bn2.num_batches_tracked\", \"layer3.0.downsample.0.weight\", \"layer3.0.downsample.1.weight\", \"layer3.0.downsample.1.bias\", \"layer3.0.downsample.1.running_mean\", \"layer3.0.downsample.1.running_var\", \"layer3.0.downsample.1.num_batches_tracked\", \"layer3.1.conv1.weight\", \"layer3.1.bn1.weight\", \"layer3.1.bn1.bias\", \"layer3.1.bn1.running_mean\", \"layer3.1.bn1.running_var\", \"layer3.1.bn1.num_batches_tracked\", \"layer3.1.conv2.weight\", \"layer3.1.bn2.weight\", \"layer3.1.bn2.bias\", \"layer3.1.bn2.running_mean\", \"layer3.1.bn2.running_var\", \"layer3.1.bn2.num_batches_tracked\", \"layer4.0.conv1.weight\", \"layer4.0.bn1.weight\", \"layer4.0.bn1.bias\", \"layer4.0.bn1.running_mean\", \"layer4.0.bn1.running_var\", \"layer4.0.bn1.num_batches_tracked\", \"layer4.0.conv2.weight\", \"layer4.0.bn2.weight\", \"layer4.0.bn2.bias\", \"layer4.0.bn2.running_mean\", \"layer4.0.bn2.running_var\", \"layer4.0.bn2.num_batches_tracked\", \"layer4.0.downsample.0.weight\", \"layer4.0.downsample.1.weight\", \"layer4.0.downsample.1.bias\", \"layer4.0.downsample.1.running_mean\", \"layer4.0.downsample.1.running_var\", \"layer4.0.downsample.1.num_batches_tracked\", \"layer4.1.conv1.weight\", \"layer4.1.bn1.weight\", \"layer4.1.bn1.bias\", \"layer4.1.bn1.running_mean\", \"layer4.1.bn1.running_var\", \"layer4.1.bn1.num_batches_tracked\", \"layer4.1.conv2.weight\", \"layer4.1.bn2.weight\", \"layer4.1.bn2.bias\", \"layer4.1.bn2.running_mean\", \"layer4.1.bn2.running_var\", \"layer4.1.bn2.num_batches_tracked\", \"fc.weight\", \"fc.bias\". ",
     "output_type": "error",
     "traceback": [
      "\u001b[31m---------------------------------------------------------------------------\u001b[39m",
      "\u001b[31mRuntimeError\u001b[39m                              Traceback (most recent call last)",
      "\u001b[36mCell\u001b[39m\u001b[36m \u001b[39m\u001b[32mIn[3]\u001b[39m\u001b[32m, line 14\u001b[39m\n\u001b[32m      6\u001b[39m \u001b[38;5;66;03m# base_model.fc = torch.nn.Linear(base_model.fc.in_features, NUM_CLASSES)\u001b[39;00m\n\u001b[32m      7\u001b[39m \n\u001b[32m      8\u001b[39m \u001b[38;5;66;03m# TODO: Check on the number of models\u001b[39;00m\n\u001b[32m      9\u001b[39m model = SWAG(\n\u001b[32m     10\u001b[39m     base_model, \n\u001b[32m     11\u001b[39m     no_cov_mat=\u001b[38;5;28;01mTrue\u001b[39;00m,\n\u001b[32m     12\u001b[39m )\n\u001b[32m---> \u001b[39m\u001b[32m14\u001b[39m \u001b[43mmodel\u001b[49m\u001b[43m.\u001b[49m\u001b[43mload_state_dict\u001b[49m\u001b[43m(\u001b[49m\u001b[43mtorch\u001b[49m\u001b[43m.\u001b[49m\u001b[43mload\u001b[49m\u001b[43m(\u001b[49m\u001b[43mhotstart_path\u001b[49m\u001b[43m,\u001b[49m\u001b[43m \u001b[49m\u001b[43mweights_only\u001b[49m\u001b[43m=\u001b[49m\u001b[38;5;28;43;01mTrue\u001b[39;49;00m\u001b[43m)\u001b[49m\u001b[43m)\u001b[49m\n\u001b[32m     16\u001b[39m \u001b[38;5;66;03m# Training details\u001b[39;00m\n\u001b[32m     17\u001b[39m optimizer = SGD(model.parameters(), lr=\u001b[32m0.01\u001b[39m)\n",
      "\u001b[36mFile \u001b[39m\u001b[32m/vast/palmer/home.grace/bml62/pml/probabilistic-machine-learning-final-proj/swag/posteriors/swag.py:192\u001b[39m, in \u001b[36mSWAG.load_state_dict\u001b[39m\u001b[34m(self, state_dict, strict)\u001b[39m\n\u001b[32m    187\u001b[39m         mean = module.\u001b[34m__getattr__\u001b[39m(\u001b[33m\"\u001b[39m\u001b[38;5;132;01m%s\u001b[39;00m\u001b[33m_mean\u001b[39m\u001b[33m\"\u001b[39m % name)\n\u001b[32m    188\u001b[39m         module.\u001b[34m__setattr__\u001b[39m(\n\u001b[32m    189\u001b[39m             \u001b[33m\"\u001b[39m\u001b[38;5;132;01m%s\u001b[39;00m\u001b[33m_cov_mat_sqrt\u001b[39m\u001b[33m\"\u001b[39m % name,\n\u001b[32m    190\u001b[39m             mean.new_empty((rank, mean.numel())).zero_(),\n\u001b[32m    191\u001b[39m         )\n\u001b[32m--> \u001b[39m\u001b[32m192\u001b[39m \u001b[38;5;28;43msuper\u001b[39;49m\u001b[43m(\u001b[49m\u001b[43mSWAG\u001b[49m\u001b[43m,\u001b[49m\u001b[43m \u001b[49m\u001b[38;5;28;43mself\u001b[39;49m\u001b[43m)\u001b[49m\u001b[43m.\u001b[49m\u001b[43mload_state_dict\u001b[49m\u001b[43m(\u001b[49m\u001b[43mstate_dict\u001b[49m\u001b[43m,\u001b[49m\u001b[43m \u001b[49m\u001b[43mstrict\u001b[49m\u001b[43m)\u001b[49m\n",
      "\u001b[36mFile \u001b[39m\u001b[32m~/.conda/envs/pml_env_dist/lib/python3.13/site-packages/torch/nn/modules/module.py:2593\u001b[39m, in \u001b[36mModule.load_state_dict\u001b[39m\u001b[34m(self, state_dict, strict, assign)\u001b[39m\n\u001b[32m   2585\u001b[39m         error_msgs.insert(\n\u001b[32m   2586\u001b[39m             \u001b[32m0\u001b[39m,\n\u001b[32m   2587\u001b[39m             \u001b[33m\"\u001b[39m\u001b[33mMissing key(s) in state_dict: \u001b[39m\u001b[38;5;132;01m{}\u001b[39;00m\u001b[33m. \u001b[39m\u001b[33m\"\u001b[39m.format(\n\u001b[32m   2588\u001b[39m                 \u001b[33m\"\u001b[39m\u001b[33m, \u001b[39m\u001b[33m\"\u001b[39m.join(\u001b[33mf\u001b[39m\u001b[33m'\u001b[39m\u001b[33m\"\u001b[39m\u001b[38;5;132;01m{\u001b[39;00mk\u001b[38;5;132;01m}\u001b[39;00m\u001b[33m\"\u001b[39m\u001b[33m'\u001b[39m \u001b[38;5;28;01mfor\u001b[39;00m k \u001b[38;5;129;01min\u001b[39;00m missing_keys)\n\u001b[32m   2589\u001b[39m             ),\n\u001b[32m   2590\u001b[39m         )\n\u001b[32m   2592\u001b[39m \u001b[38;5;28;01mif\u001b[39;00m \u001b[38;5;28mlen\u001b[39m(error_msgs) > \u001b[32m0\u001b[39m:\n\u001b[32m-> \u001b[39m\u001b[32m2593\u001b[39m     \u001b[38;5;28;01mraise\u001b[39;00m \u001b[38;5;167;01mRuntimeError\u001b[39;00m(\n\u001b[32m   2594\u001b[39m         \u001b[33m\"\u001b[39m\u001b[33mError(s) in loading state_dict for \u001b[39m\u001b[38;5;132;01m{}\u001b[39;00m\u001b[33m:\u001b[39m\u001b[38;5;130;01m\\n\u001b[39;00m\u001b[38;5;130;01m\\t\u001b[39;00m\u001b[38;5;132;01m{}\u001b[39;00m\u001b[33m\"\u001b[39m.format(\n\u001b[32m   2595\u001b[39m             \u001b[38;5;28mself\u001b[39m.\u001b[34m__class__\u001b[39m.\u001b[34m__name__\u001b[39m, \u001b[33m\"\u001b[39m\u001b[38;5;130;01m\\n\u001b[39;00m\u001b[38;5;130;01m\\t\u001b[39;00m\u001b[33m\"\u001b[39m.join(error_msgs)\n\u001b[32m   2596\u001b[39m         )\n\u001b[32m   2597\u001b[39m     )\n\u001b[32m   2598\u001b[39m \u001b[38;5;28;01mreturn\u001b[39;00m _IncompatibleKeys(missing_keys, unexpected_keys)\n",
      "\u001b[31mRuntimeError\u001b[39m: Error(s) in loading state_dict for SWAG:\n\tMissing key(s) in state_dict: \"n_models\", \"base.conv1.weight_mean\", \"base.conv1.weight_sq_mean\", \"base.bn1.running_mean\", \"base.bn1.running_var\", \"base.bn1.weight_mean\", \"base.bn1.weight_sq_mean\", \"base.bn1.bias_mean\", \"base.bn1.bias_sq_mean\", \"base.layer1.0.conv1.weight_mean\", \"base.layer1.0.conv1.weight_sq_mean\", \"base.layer1.0.bn1.running_mean\", \"base.layer1.0.bn1.running_var\", \"base.layer1.0.bn1.weight_mean\", \"base.layer1.0.bn1.weight_sq_mean\", \"base.layer1.0.bn1.bias_mean\", \"base.layer1.0.bn1.bias_sq_mean\", \"base.layer1.0.conv2.weight_mean\", \"base.layer1.0.conv2.weight_sq_mean\", \"base.layer1.0.bn2.running_mean\", \"base.layer1.0.bn2.running_var\", \"base.layer1.0.bn2.weight_mean\", \"base.layer1.0.bn2.weight_sq_mean\", \"base.layer1.0.bn2.bias_mean\", \"base.layer1.0.bn2.bias_sq_mean\", \"base.layer1.1.conv1.weight_mean\", \"base.layer1.1.conv1.weight_sq_mean\", \"base.layer1.1.bn1.running_mean\", \"base.layer1.1.bn1.running_var\", \"base.layer1.1.bn1.weight_mean\", \"base.layer1.1.bn1.weight_sq_mean\", \"base.layer1.1.bn1.bias_mean\", \"base.layer1.1.bn1.bias_sq_mean\", \"base.layer1.1.conv2.weight_mean\", \"base.layer1.1.conv2.weight_sq_mean\", \"base.layer1.1.bn2.running_mean\", \"base.layer1.1.bn2.running_var\", \"base.layer1.1.bn2.weight_mean\", \"base.layer1.1.bn2.weight_sq_mean\", \"base.layer1.1.bn2.bias_mean\", \"base.layer1.1.bn2.bias_sq_mean\", \"base.layer2.0.conv1.weight_mean\", \"base.layer2.0.conv1.weight_sq_mean\", \"base.layer2.0.bn1.running_mean\", \"base.layer2.0.bn1.running_var\", \"base.layer2.0.bn1.weight_mean\", \"base.layer2.0.bn1.weight_sq_mean\", \"base.layer2.0.bn1.bias_mean\", \"base.layer2.0.bn1.bias_sq_mean\", \"base.layer2.0.conv2.weight_mean\", \"base.layer2.0.conv2.weight_sq_mean\", \"base.layer2.0.bn2.running_mean\", \"base.layer2.0.bn2.running_var\", \"base.layer2.0.bn2.weight_mean\", \"base.layer2.0.bn2.weight_sq_mean\", \"base.layer2.0.bn2.bias_mean\", \"base.layer2.0.bn2.bias_sq_mean\", \"base.layer2.0.downsample.0.weight_mean\", \"base.layer2.0.downsample.0.weight_sq_mean\", \"base.layer2.0.downsample.1.running_mean\", \"base.layer2.0.downsample.1.running_var\", \"base.layer2.0.downsample.1.weight_mean\", \"base.layer2.0.downsample.1.weight_sq_mean\", \"base.layer2.0.downsample.1.bias_mean\", \"base.layer2.0.downsample.1.bias_sq_mean\", \"base.layer2.1.conv1.weight_mean\", \"base.layer2.1.conv1.weight_sq_mean\", \"base.layer2.1.bn1.running_mean\", \"base.layer2.1.bn1.running_var\", \"base.layer2.1.bn1.weight_mean\", \"base.layer2.1.bn1.weight_sq_mean\", \"base.layer2.1.bn1.bias_mean\", \"base.layer2.1.bn1.bias_sq_mean\", \"base.layer2.1.conv2.weight_mean\", \"base.layer2.1.conv2.weight_sq_mean\", \"base.layer2.1.bn2.running_mean\", \"base.layer2.1.bn2.running_var\", \"base.layer2.1.bn2.weight_mean\", \"base.layer2.1.bn2.weight_sq_mean\", \"base.layer2.1.bn2.bias_mean\", \"base.layer2.1.bn2.bias_sq_mean\", \"base.layer3.0.conv1.weight_mean\", \"base.layer3.0.conv1.weight_sq_mean\", \"base.layer3.0.bn1.running_mean\", \"base.layer3.0.bn1.running_var\", \"base.layer3.0.bn1.weight_mean\", \"base.layer3.0.bn1.weight_sq_mean\", \"base.layer3.0.bn1.bias_mean\", \"base.layer3.0.bn1.bias_sq_mean\", \"base.layer3.0.conv2.weight_mean\", \"base.layer3.0.conv2.weight_sq_mean\", \"base.layer3.0.bn2.running_mean\", \"base.layer3.0.bn2.running_var\", \"base.layer3.0.bn2.weight_mean\", \"base.layer3.0.bn2.weight_sq_mean\", \"base.layer3.0.bn2.bias_mean\", \"base.layer3.0.bn2.bias_sq_mean\", \"base.layer3.0.downsample.0.weight_mean\", \"base.layer3.0.downsample.0.weight_sq_mean\", \"base.layer3.0.downsample.1.running_mean\", \"base.layer3.0.downsample.1.running_var\", \"base.layer3.0.downsample.1.weight_mean\", \"base.layer3.0.downsample.1.weight_sq_mean\", \"base.layer3.0.downsample.1.bias_mean\", \"base.layer3.0.downsample.1.bias_sq_mean\", \"base.layer3.1.conv1.weight_mean\", \"base.layer3.1.conv1.weight_sq_mean\", \"base.layer3.1.bn1.running_mean\", \"base.layer3.1.bn1.running_var\", \"base.layer3.1.bn1.weight_mean\", \"base.layer3.1.bn1.weight_sq_mean\", \"base.layer3.1.bn1.bias_mean\", \"base.layer3.1.bn1.bias_sq_mean\", \"base.layer3.1.conv2.weight_mean\", \"base.layer3.1.conv2.weight_sq_mean\", \"base.layer3.1.bn2.running_mean\", \"base.layer3.1.bn2.running_var\", \"base.layer3.1.bn2.weight_mean\", \"base.layer3.1.bn2.weight_sq_mean\", \"base.layer3.1.bn2.bias_mean\", \"base.layer3.1.bn2.bias_sq_mean\", \"base.layer4.0.conv1.weight_mean\", \"base.layer4.0.conv1.weight_sq_mean\", \"base.layer4.0.bn1.running_mean\", \"base.layer4.0.bn1.running_var\", \"base.layer4.0.bn1.weight_mean\", \"base.layer4.0.bn1.weight_sq_mean\", \"base.layer4.0.bn1.bias_mean\", \"base.layer4.0.bn1.bias_sq_mean\", \"base.layer4.0.conv2.weight_mean\", \"base.layer4.0.conv2.weight_sq_mean\", \"base.layer4.0.bn2.running_mean\", \"base.layer4.0.bn2.running_var\", \"base.layer4.0.bn2.weight_mean\", \"base.layer4.0.bn2.weight_sq_mean\", \"base.layer4.0.bn2.bias_mean\", \"base.layer4.0.bn2.bias_sq_mean\", \"base.layer4.0.downsample.0.weight_mean\", \"base.layer4.0.downsample.0.weight_sq_mean\", \"base.layer4.0.downsample.1.running_mean\", \"base.layer4.0.downsample.1.running_var\", \"base.layer4.0.downsample.1.weight_mean\", \"base.layer4.0.downsample.1.weight_sq_mean\", \"base.layer4.0.downsample.1.bias_mean\", \"base.layer4.0.downsample.1.bias_sq_mean\", \"base.layer4.1.conv1.weight_mean\", \"base.layer4.1.conv1.weight_sq_mean\", \"base.layer4.1.bn1.running_mean\", \"base.layer4.1.bn1.running_var\", \"base.layer4.1.bn1.weight_mean\", \"base.layer4.1.bn1.weight_sq_mean\", \"base.layer4.1.bn1.bias_mean\", \"base.layer4.1.bn1.bias_sq_mean\", \"base.layer4.1.conv2.weight_mean\", \"base.layer4.1.conv2.weight_sq_mean\", \"base.layer4.1.bn2.running_mean\", \"base.layer4.1.bn2.running_var\", \"base.layer4.1.bn2.weight_mean\", \"base.layer4.1.bn2.weight_sq_mean\", \"base.layer4.1.bn2.bias_mean\", \"base.layer4.1.bn2.bias_sq_mean\", \"base.fc.weight_mean\", \"base.fc.weight_sq_mean\", \"base.fc.bias_mean\", \"base.fc.bias_sq_mean\". \n\tUnexpected key(s) in state_dict: \"conv1.weight\", \"bn1.weight\", \"bn1.bias\", \"bn1.running_mean\", \"bn1.running_var\", \"bn1.num_batches_tracked\", \"layer1.0.conv1.weight\", \"layer1.0.bn1.weight\", \"layer1.0.bn1.bias\", \"layer1.0.bn1.running_mean\", \"layer1.0.bn1.running_var\", \"layer1.0.bn1.num_batches_tracked\", \"layer1.0.conv2.weight\", \"layer1.0.bn2.weight\", \"layer1.0.bn2.bias\", \"layer1.0.bn2.running_mean\", \"layer1.0.bn2.running_var\", \"layer1.0.bn2.num_batches_tracked\", \"layer1.1.conv1.weight\", \"layer1.1.bn1.weight\", \"layer1.1.bn1.bias\", \"layer1.1.bn1.running_mean\", \"layer1.1.bn1.running_var\", \"layer1.1.bn1.num_batches_tracked\", \"layer1.1.conv2.weight\", \"layer1.1.bn2.weight\", \"layer1.1.bn2.bias\", \"layer1.1.bn2.running_mean\", \"layer1.1.bn2.running_var\", \"layer1.1.bn2.num_batches_tracked\", \"layer2.0.conv1.weight\", \"layer2.0.bn1.weight\", \"layer2.0.bn1.bias\", \"layer2.0.bn1.running_mean\", \"layer2.0.bn1.running_var\", \"layer2.0.bn1.num_batches_tracked\", \"layer2.0.conv2.weight\", \"layer2.0.bn2.weight\", \"layer2.0.bn2.bias\", \"layer2.0.bn2.running_mean\", \"layer2.0.bn2.running_var\", \"layer2.0.bn2.num_batches_tracked\", \"layer2.0.downsample.0.weight\", \"layer2.0.downsample.1.weight\", \"layer2.0.downsample.1.bias\", \"layer2.0.downsample.1.running_mean\", \"layer2.0.downsample.1.running_var\", \"layer2.0.downsample.1.num_batches_tracked\", \"layer2.1.conv1.weight\", \"layer2.1.bn1.weight\", \"layer2.1.bn1.bias\", \"layer2.1.bn1.running_mean\", \"layer2.1.bn1.running_var\", \"layer2.1.bn1.num_batches_tracked\", \"layer2.1.conv2.weight\", \"layer2.1.bn2.weight\", \"layer2.1.bn2.bias\", \"layer2.1.bn2.running_mean\", \"layer2.1.bn2.running_var\", \"layer2.1.bn2.num_batches_tracked\", \"layer3.0.conv1.weight\", \"layer3.0.bn1.weight\", \"layer3.0.bn1.bias\", \"layer3.0.bn1.running_mean\", \"layer3.0.bn1.running_var\", \"layer3.0.bn1.num_batches_tracked\", \"layer3.0.conv2.weight\", \"layer3.0.bn2.weight\", \"layer3.0.bn2.bias\", \"layer3.0.bn2.running_mean\", \"layer3.0.bn2.running_var\", \"layer3.0.bn2.num_batches_tracked\", \"layer3.0.downsample.0.weight\", \"layer3.0.downsample.1.weight\", \"layer3.0.downsample.1.bias\", \"layer3.0.downsample.1.running_mean\", \"layer3.0.downsample.1.running_var\", \"layer3.0.downsample.1.num_batches_tracked\", \"layer3.1.conv1.weight\", \"layer3.1.bn1.weight\", \"layer3.1.bn1.bias\", \"layer3.1.bn1.running_mean\", \"layer3.1.bn1.running_var\", \"layer3.1.bn1.num_batches_tracked\", \"layer3.1.conv2.weight\", \"layer3.1.bn2.weight\", \"layer3.1.bn2.bias\", \"layer3.1.bn2.running_mean\", \"layer3.1.bn2.running_var\", \"layer3.1.bn2.num_batches_tracked\", \"layer4.0.conv1.weight\", \"layer4.0.bn1.weight\", \"layer4.0.bn1.bias\", \"layer4.0.bn1.running_mean\", \"layer4.0.bn1.running_var\", \"layer4.0.bn1.num_batches_tracked\", \"layer4.0.conv2.weight\", \"layer4.0.bn2.weight\", \"layer4.0.bn2.bias\", \"layer4.0.bn2.running_mean\", \"layer4.0.bn2.running_var\", \"layer4.0.bn2.num_batches_tracked\", \"layer4.0.downsample.0.weight\", \"layer4.0.downsample.1.weight\", \"layer4.0.downsample.1.bias\", \"layer4.0.downsample.1.running_mean\", \"layer4.0.downsample.1.running_var\", \"layer4.0.downsample.1.num_batches_tracked\", \"layer4.1.conv1.weight\", \"layer4.1.bn1.weight\", \"layer4.1.bn1.bias\", \"layer4.1.bn1.running_mean\", \"layer4.1.bn1.running_var\", \"layer4.1.bn1.num_batches_tracked\", \"layer4.1.conv2.weight\", \"layer4.1.bn2.weight\", \"layer4.1.bn2.bias\", \"layer4.1.bn2.running_mean\", \"layer4.1.bn2.running_var\", \"layer4.1.bn2.num_batches_tracked\", \"fc.weight\", \"fc.bias\". "
     ]
    }
   ],
   "source": [
    "NUM_CLASSES = 200\n",
    "\n",
    "# Load in hotstarted model\n",
    "hotstart_path = \"./models/sgd_model.pt\"\n",
    "base_model = models.resnet18()\n",
    "# base_model.fc = torch.nn.Linear(base_model.fc.in_features, NUM_CLASSES)\n",
    "\n",
    "# TODO: Check on the number of models\n",
    "model = SWAG(\n",
    "    base_model, \n",
    "    no_cov_mat=True,\n",
    ")\n",
    "\n",
    "model.load_state_dict(torch.load(hotstart_path, weights_only=True))\n",
    "\n",
    "# Training details\n",
    "optimizer = SGD(model.parameters(), lr=0.01)\n",
    "loss_fn = CrossEntropyLoss()\n",
    "device = torch.device(\"cuda\" if torch.cuda.is_available() else \"cpu\")\n",
    "print(f\"Using device {device}\")\n",
    "model.to(device)\n",
    "\n",
    "# SWAG model details\n",
    "swa_model = AveragedModel(model)\n",
    "swa_model.to(device)\n",
    "swa_scheduler = SWALR(optimizer, swa_lr=0.05)\n",
    "\n",
    "# Remember this is the number of epochs after pretraining\n",
    "epochs = 30\n",
    "\n",
    "# Create Loaders\n",
    "train_loader = tiny_imagenet_loader(split=\"train\", batch_size=128, num_workers=1)\n",
    "val_loader = tiny_imagenet_loader(split=\"val\", batch_size=128, num_workers=1)"
   ]
  },
  {
   "cell_type": "code",
   "execution_count": null,
   "id": "293df392",
   "metadata": {},
   "outputs": [],
   "source": [
    "# Implement SAW portion of training for the model on ImageNet\n",
    "for epoch in tqdm(range(epochs), desc=\"Training\", leave=False):\n",
    "    print(f\"Epoch {epoch + 1}/{epochs}\")\n",
    "    \n",
    "    for images, labels in train_loader:\n",
    "        images, labels = images.to(device), labels.to(device)\n",
    "\n",
    "        optimizer.zero_grad()\n",
    "        loss_fn(model(images), labels).backward()\n",
    "        optimizer.step()\n",
    "    \n",
    "    # Schedule learning rate with SWA\n",
    "    swa_model.update_parameters(model)\n",
    "    swa_scheduler.step()"
   ]
  },
  {
   "cell_type": "code",
   "execution_count": null,
   "id": "05ecc714-a90b-4daa-aa05-f3701523a481",
   "metadata": {},
   "outputs": [],
   "source": [
    "# Save the model\n",
    "torch.save(model.state_dict(), \"./models/swa_model.pt\")"
   ]
  },
  {
   "cell_type": "code",
   "execution_count": null,
   "id": "c729fe59-2832-48ca-9683-1917dd07ffad",
   "metadata": {},
   "outputs": [],
   "source": [
    "def evaluate_model(model, loader):\n",
    "    \"\"\" Return the accuracy of the model on the given data set (percentage correct labels assigned) \"\"\"\n",
    "    total_correct = 0\n",
    "    total = 0\n",
    "    model.eval()\n",
    "    with torch.no_grad():\n",
    "        for images, labels in tqdm(loader, desc=\"Testing\", leave=False):\n",
    "            images, labels = images.to(device), labels.to(device)\n",
    "            prediction = model(images)\n",
    "            correct = (torch.argmax(prediction, dim=1) == labels).sum()\n",
    "            total += 128\n",
    "            total_correct += correct\n",
    "\n",
    "    return total_correct/total"
   ]
  },
  {
   "cell_type": "code",
   "execution_count": null,
   "id": "44f658fe-be6c-4dba-8e76-d8d4434f5113",
   "metadata": {},
   "outputs": [],
   "source": [
    "model = models.resnet18()\n",
    "model.load_state_dict(torch.load(\"./models/swa_model.pt\", weights_only=True))\n",
    "model.to(device)\n",
    "\n",
    "val_accuracy = evaluate_model(model, val_loader)\n",
    "print(f\"Val Accuracy: {val_accuracy}\")\n"
   ]
  },
  {
   "cell_type": "code",
   "execution_count": null,
   "id": "804f1736-664c-4c43-a576-bbc4ecdf4cc6",
   "metadata": {},
   "outputs": [],
   "source": [
    "print(\"Test Accuracy:\")\n",
    "\n",
    "corruptions = [\"brightness\", \"contrast\", \"defocus_blur\"]\n",
    "\n",
    "for corruption in corruptions:\n",
    "    for level in range(1, 3):\n",
    "        test_loader = tiny_imagenet_corrupted_loader(\n",
    "            corruption,\n",
    "            severity=level,\n",
    "            batch_size=128,\n",
    "            root='./data/Tiny-ImageNet-C',\n",
    "            num_workers=1\n",
    "        )\n",
    "        test_accuracy = evaluate_model(model, test_loader)\n",
    "    \n",
    "        print(f\"{corruption} L{level}: {test_accuracy}\")"
   ]
  }
 ],
 "metadata": {
  "kernelspec": {
   "display_name": "Python [conda env:.conda-pml_env_dist] *",
   "language": "python",
   "name": "conda-env-.conda-pml_env_dist-py"
  },
  "language_info": {
   "codemirror_mode": {
    "name": "ipython",
    "version": 3
   },
   "file_extension": ".py",
   "mimetype": "text/x-python",
   "name": "python",
   "nbconvert_exporter": "python",
   "pygments_lexer": "ipython3",
   "version": "3.13.3"
  }
 },
 "nbformat": 4,
 "nbformat_minor": 5
}
