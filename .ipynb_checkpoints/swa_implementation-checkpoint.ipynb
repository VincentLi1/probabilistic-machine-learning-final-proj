{
 "cells": [
  {
   "cell_type": "code",
   "execution_count": 1,
   "id": "1a9ce624",
   "metadata": {},
   "outputs": [],
   "source": [
    "from loaders import tiny_imagenet_loader, tiny_imagenet_corrupted_loader\n",
    "import torch\n",
    "from torchvision import models\n",
    "from torch.nn import CrossEntropyLoss\n",
    "from torch.optim import SGD\n",
    "from torch.optim.swa_utils import AveragedModel, SWALR\n",
    "from tqdm.notebook import tqdm"
   ]
  },
  {
   "cell_type": "code",
   "execution_count": 2,
   "id": "a6489f86",
   "metadata": {},
   "outputs": [
    {
     "name": "stdout",
     "output_type": "stream",
     "text": [
      "Using device cuda\n"
     ]
    }
   ],
   "source": [
    "# Base model parameters\n",
    "train_loader = tiny_imagenet_loader(train=True, batch_size=128, num_workers=1)\n",
    "val_loader = tiny_imagenet_loader(train=True, batch_size=128, num_workers=1)\n",
    "model = models.resnet18()\n",
    "optimizer = SGD(model.parameters(), lr=0.01)\n",
    "loss_fn = CrossEntropyLoss()\n",
    "device = torch.device(\"cuda\" if torch.cuda.is_available() else \"cpu\")\n",
    "print(f\"Using device {device}\")\n",
    "epochs = 150\n",
    "\n",
    "# SWA parameters\n",
    "swa_model = AveragedModel(model)\n",
    "\n",
    "model.to(device)\n",
    "swa_model.to(device)\n",
    "\n",
    "# TODO: Review documentation (Comes from SWA paper)\n",
    "scheduler = torch.optim.lr_scheduler.CosineAnnealingLR(optimizer, T_max=300)\n",
    "swa_start = 160\n",
    "swa_scheduler = SWALR(optimizer, swa_lr=0.05)"
   ]
  },
  {
   "cell_type": "code",
   "execution_count": 6,
   "id": "45112f08",
   "metadata": {},
   "outputs": [
    {
     "name": "stdout",
     "output_type": "stream",
     "text": [
      "11689512\n"
     ]
    }
   ],
   "source": [
    "# Check the model parameters\n",
    "num_params = sum(p.numel() for p in model.parameters() if p.requires_grad)\n",
    "print(num_params)"
   ]
  },
  {
   "cell_type": "code",
   "execution_count": null,
   "id": "f58a99f6-2582-40a9-91bb-1f51e95188b5",
   "metadata": {},
   "outputs": [],
   "source": [
    "# Validation\n",
    "def validate(model, loader):\n",
    "    model.evaluate()\n",
    "    with torch.no_grad():\n",
    "        for images, labels in loader:\n",
    "            prediction = model(images)\n",
    "            "
   ]
  },
  {
   "cell_type": "code",
   "execution_count": null,
   "id": "293df392",
   "metadata": {},
   "outputs": [],
   "source": [
    "# Train the model on ImageNet\n",
    "for epoch in tqdm(range(epochs), desc=\"Training\", leave=False):\n",
    "    print(f\"Epoch {epoch + 1}/{epochs}\")\n",
    "    \n",
    "    for images, labels in train_loader:\n",
    "        images, labels = images.to(device), labels.to(device)\n",
    "\n",
    "        optimizer.zero_grad()\n",
    "        loss_fn(model(images), labels).backward()\n",
    "        optimizer.step()\n",
    "    \n",
    "    # Schedule learning rate with SWA\n",
    "    if epoch > swa_start:\n",
    "        swa_model.update_parameters(model)\n",
    "        swa_scheduler.step()\n",
    "    else:\n",
    "        scheduler.step()"
   ]
  },
  {
   "cell_type": "code",
   "execution_count": 9,
   "id": "05ecc714-a90b-4daa-aa05-f3701523a481",
   "metadata": {},
   "outputs": [],
   "source": [
    "# Save the model\n",
    "torch.save(model.state_dict(), \"./models/swa_implementation\")"
   ]
  },
  {
   "cell_type": "code",
   "execution_count": 8,
   "id": "c729fe59-2832-48ca-9683-1917dd07ffad",
   "metadata": {},
   "outputs": [],
   "source": [
    "def evaluate_model(model, loader):\n",
    "    \"\"\" Return the accuracy of the model on the given data set (percentage correct labels assigned) \"\"\"\n",
    "    total_correct = 0\n",
    "    total = 0\n",
    "    model.eval()\n",
    "    with torch.no_grad():\n",
    "        for images, labels in tqdm(loader, desc=\"Testing\", leave=False):\n",
    "            images, labels = images.to(device), labels.to(device)\n",
    "            prediction = model(images)\n",
    "            correct = (torch.argmax(prediction, dim=1) == labels).sum()\n",
    "            total += 128\n",
    "            total_correct += correct\n",
    "\n",
    "    return total_correct/total"
   ]
  },
  {
   "cell_type": "code",
   "execution_count": 10,
   "id": "44f658fe-be6c-4dba-8e76-d8d4434f5113",
   "metadata": {},
   "outputs": [
    {
     "ename": "SyntaxError",
     "evalue": "unterminated string literal (detected at line 24) (2561125294.py, line 24)",
     "output_type": "error",
     "traceback": [
      "  \u001b[36mCell\u001b[39m\u001b[36m \u001b[39m\u001b[32mIn[10]\u001b[39m\u001b[32m, line 24\u001b[39m\n\u001b[31m    \u001b[39m\u001b[31mfor {test_accuracy}\")\u001b[39m\n                       ^\n\u001b[31mSyntaxError\u001b[39m\u001b[31m:\u001b[39m unterminated string literal (detected at line 24)\n"
     ]
    }
   ],
   "source": [
    "model = models.resnet18()\n",
    "model.load_state_dict(torch.load(\"./models/swa_implementation\", weights_only=True))\n",
    "model.to(device)\n",
    "\n",
    "val_accuracy = evaluate_model(model, val_loader)\n",
    "print(f\"Val Accuracy: {val_accuracy}\")\n",
    "\n",
    "print(\"Test Accuracy:\")\n",
    "\n",
    "corruptions = [\"brightness\", \"contrast\", \"defocus_blur\", \"elastic_trasform\"\n",
    "\n",
    "for corruption in corruptions:\n",
    "    test_loader = tiny_imagenet_corrupted_loader(\n",
    "        corruption='brightness',\n",
    "        severity=1,\n",
    "        batch_size=128,\n",
    "        root='./data/Tiny-ImageNet-C',\n",
    "        num_workers=1\n",
    "    )\n",
    "    test_accuracy = evaluate_model(model, test_loader)\n",
    "\n",
    "    print(f\"{corruption} L1: {test_accuracy}\")\n"
   ]
  },
  {
   "cell_type": "code",
   "execution_count": 4,
   "id": "fa065432-e03a-405b-a240-dbac3d9fbca0",
   "metadata": {},
   "outputs": [
    {
     "name": "stdout",
     "output_type": "stream",
     "text": [
      "tensor(0.9988, device='cuda:0')\n"
     ]
    }
   ],
   "source": [
    "print(total_correct/total)"
   ]
  },
  {
   "cell_type": "code",
   "execution_count": null,
   "id": "47bd5ce3-d47f-48c7-8cd7-ad4f25ccba1a",
   "metadata": {},
   "outputs": [],
   "source": [
    "print(\"test\")"
   ]
  }
 ],
 "metadata": {
  "kernelspec": {
   "display_name": "Python [conda env:.conda-pml_env] *",
   "language": "python",
   "name": "conda-env-.conda-pml_env-py"
  },
  "language_info": {
   "codemirror_mode": {
    "name": "ipython",
    "version": 3
   },
   "file_extension": ".py",
   "mimetype": "text/x-python",
   "name": "python",
   "nbconvert_exporter": "python",
   "pygments_lexer": "ipython3",
   "version": "3.13.3"
  }
 },
 "nbformat": 4,
 "nbformat_minor": 5
}
