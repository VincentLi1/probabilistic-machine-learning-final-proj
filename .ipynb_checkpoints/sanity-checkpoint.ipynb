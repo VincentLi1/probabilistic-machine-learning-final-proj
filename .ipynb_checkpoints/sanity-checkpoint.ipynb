{
 "cells": [
  {
   "cell_type": "markdown",
   "id": "da1b1acf-79e8-4623-948e-165ab2ea778b",
   "metadata": {},
   "source": [
    "Use to observe images and how they are classified for any given model"
   ]
  },
  {
   "cell_type": "code",
   "execution_count": 1,
   "id": "53c9592b-c787-49c0-8cd5-5b5f28664b27",
   "metadata": {},
   "outputs": [
    {
     "name": "stdout",
     "output_type": "stream",
     "text": [
      "Using device cuda\n"
     ]
    }
   ],
   "source": [
    "import matplotlib.pyplot as plt\n",
    "import numpy as np\n",
    "\n",
    "import os\n",
    "from PIL import Image\n",
    "\n",
    "import torch\n",
    "import torchvision\n",
    "from torchvision import models\n",
    "\n",
    "from loaders import (\n",
    "    tiny_imagenet_train_loader, \n",
    "    tiny_imagenet_val_loader,\n",
    "    tiny_imagenet_corrupted_loader,\n",
    "    map_strings_to_line_numbers\n",
    ")\n",
    "\n",
    "from tqdm.notebook import tqdm\n",
    "\n",
    "device = torch.device(\"cuda\" if torch.cuda.is_available() else \"cpu\")\n",
    "print(f\"Using device {device}\")"
   ]
  },
  {
   "cell_type": "code",
   "execution_count": 2,
   "id": "132dd701-9c23-480d-b157-e94bf5ff01a1",
   "metadata": {},
   "outputs": [],
   "source": [
    "def display_image(image, title=\"Test image\"):\n",
    "    np_image = image.numpy()\n",
    "    plt.imshow(np.transpose(np_image, (1, 2, 0)))  # CHW -> HWC\n",
    "    if title is not None:\n",
    "        plt.title(title)\n",
    "    plt.axis('off')\n",
    "    plt.show()"
   ]
  },
  {
   "cell_type": "code",
   "execution_count": 3,
   "id": "10657245-eb36-4535-be94-d43ea8ecbe65",
   "metadata": {},
   "outputs": [],
   "source": [
    "def display_image_from_path(path, title=\"Test image\"):\n",
    "    image = Image.open(path)\n",
    "    plt.imshow(image)\n",
    "    plt.axis('off')\n",
    "    plt.title(\"Sample from Tiny ImageNet\")\n",
    "    plt.show()"
   ]
  },
  {
   "cell_type": "code",
   "execution_count": 4,
   "id": "2029ef6e-4c9f-4f13-8f0f-be61881d8621",
   "metadata": {},
   "outputs": [],
   "source": [
    "def get_tiny_imagenet_label_map(wnids_path, words_path):\n",
    "    \"\"\"\n",
    "    Returns a dict that maps Tiny ImageNet class indices (0-199) to human-readable labels.\n",
    "    \n",
    "    Args:\n",
    "        wnids_path (str): Path to wnids.txt\n",
    "        words_path (str): Path to words.txt\n",
    "        \n",
    "    Returns:\n",
    "        dict: index_to_label (e.g., {0: \"goldfish\", 1: \"white shark\", ...})\n",
    "    \"\"\"\n",
    "    # Load WNIDs\n",
    "    with open(wnids_path, 'r') as f:\n",
    "        wnids = [line.strip() for line in f.readlines()]\n",
    "\n",
    "    # Map WNIDs to their corresponding labels from words.txt\n",
    "    wnid_to_label = {}\n",
    "    with open(words_path, 'r') as f:\n",
    "        for line in f:\n",
    "            parts = line.strip().split('\\t')\n",
    "            if len(parts) == 2:\n",
    "                wnid, label = parts\n",
    "                wnid_to_label[wnid] = label.split(',')[0]  # take first synonym\n",
    "\n",
    "    # Map index (0–199) to label using WNIDs\n",
    "    index_to_label = {\n",
    "        idx: wnid_to_label.get(wnid, \"Unknown\") for idx, wnid in enumerate(wnids)\n",
    "    }\n",
    "\n",
    "    return index_to_label"
   ]
  },
  {
   "cell_type": "code",
   "execution_count": 5,
   "id": "9cdcf904-f919-4683-b9f4-9d2e88346c28",
   "metadata": {},
   "outputs": [
    {
     "name": "stdout",
     "output_type": "stream",
     "text": [
      "First few labels\n",
      "\tEgyptian cat\n",
      "\treel\n",
      "\tvolleyball\n",
      "\trocking chair\n",
      "\tlemon\n",
      "scorpion\n",
      "volleyball\n"
     ]
    }
   ],
   "source": [
    "# Generate a map from labels to text\n",
    "label_map = get_tiny_imagenet_label_map(\"./data/tiny-imagenet-200/wnids.txt\", \"./data/tiny-imagenet-200/words.txt\")\n",
    "\n",
    "print(\"First few labels\")\n",
    "for i in range(5):\n",
    "    print(f\"\\t{label_map[i]}\")\n",
    "\n",
    "print(label_map[125])\n",
    "print(label_map[2])"
   ]
  },
  {
   "cell_type": "code",
   "execution_count": 12,
   "id": "aff6e917-ab94-4777-9261-4f66cbb9827c",
   "metadata": {},
   "outputs": [
    {
     "name": "stdout",
     "output_type": "stream",
     "text": [
      "Folders:\n",
      "Folders:\n"
     ]
    },
    {
     "data": {
      "application/vnd.jupyter.widget-view+json": {
       "model_id": "a418a7e363fa4c90988514c2923e84c6",
       "version_major": 2,
       "version_minor": 0
      },
      "text/plain": [
       "Testing:   0%|          | 0/79 [00:00<?, ?it/s]"
      ]
     },
     "metadata": {},
     "output_type": "display_data"
    },
    {
     "name": "stderr",
     "output_type": "stream",
     "text": [
      "Clipping input data to the valid range for imshow with RGB data ([0..1] for floats or [0..255] for integers). Got range [-1.4090749..1.9828528].\n"
     ]
    },
    {
     "name": "stdout",
     "output_type": "stream",
     "text": [
      "tensor([127, 106,   7, 115,  41,  82, 169,  49,  26,  67,  30,  65,  48,  26,\n",
      "        141,   6,   5,  66,  30,  16, 174, 199,  21,  95, 153, 189, 159, 154,\n",
      "        191,  78,  27,  37, 188,  54,  66,  40, 121,  70, 154, 189, 149,  49,\n",
      "        105,  58,  96,  15, 173, 132,  71, 106, 154, 179, 144, 107, 115,  21,\n",
      "        149,  25, 187, 174,  38, 126,  52,  90, 164,  48,  20,  72, 161,  26,\n",
      "         26, 194, 154,  96, 112,  73, 101,  47, 142,   6, 144, 184, 109,  98,\n",
      "         11, 147,  34, 119,  18, 149, 129,  60,  98,  15, 191, 106,  83,  46,\n",
      "         31,  36, 198,  39,   3, 160, 141,  84,  65,  96, 117, 113,  87, 180,\n",
      "        185, 194, 177, 163,  85, 173,  60,   6,  75,  67,  15, 172, 168, 117,\n",
      "        138, 194], device='cuda:0')\n",
      "tensor([169,  67,  21,  20, 199,  24, 180,  88,  86, 194, 171,  24, 109,  91,\n",
      "         10, 125,  52,  14,  80, 191, 104,  51,  76, 141, 181,  64,  47, 181,\n",
      "         83,  74,  55, 187,   0, 138,  27, 144, 110, 104, 148,  12, 163,  42,\n",
      "         56, 131, 182, 145, 181, 135, 187, 110, 100, 175, 130, 185,  33,   8,\n",
      "         21,  96,  31,  41,  80, 132,  43, 121, 182, 173, 122,  80, 193,  59,\n",
      "        182,  56,  39, 177, 171,  15,  24, 188, 100, 182, 130,  35, 168,  81,\n",
      "         26, 147,   7, 154, 149, 186, 156,  22,  31,  16, 192, 128, 123, 188,\n",
      "        140, 183, 183,  83, 188, 179, 122, 188,  99,  26, 133,  42,  37, 199,\n",
      "        138,  56, 192, 135, 138, 130,  23,  47, 133, 180, 110, 188, 196, 153,\n",
      "        184,  31], device='cuda:0')\n",
      "102\n",
      "True labels\n",
      "3\n",
      "Actual: rocking chair\n",
      "Prediction: bell pepper\n"
     ]
    },
    {
     "data": {
      "image/png": "[encoded data removed]",
      "text/plain": [
       "<Figure size 640x480 with 1 Axes>"
      ]
     },
     "metadata": {},
     "output_type": "display_data"
    }
   ],
   "source": [
    "# Load in the dataloaders\n",
    "train_loader = tiny_imagenet_train_loader(batch_size=1, num_workers=1)\n",
    "val_loader = tiny_imagenet_val_loader(batch_size=1, num_workers=1)\n",
    "test_loader = tiny_imagenet_corrupted_loader(\n",
    "    \"brightness\",\n",
    "    severity=1,\n",
    "    batch_size=128,\n",
    "    root='./data/Tiny-ImageNet-C',\n",
    "    num_workers=1\n",
    ")\n",
    "\n",
    "model = models.resnet18()\n",
    "model.load_state_dict(torch.load(\"./models/sgd_model.pt\", weights_only=True))\n",
    "model.to(device)\n",
    "\n",
    "# Set the loader\n",
    "loader = test_loader\n",
    "\n",
    "# Evaluate\n",
    "model.eval()\n",
    "with torch.no_grad():\n",
    "    for images, labels in tqdm(loader, desc=\"Testing\", leave=False):\n",
    "        images, labels = images.to(device), labels.to(device)\n",
    "        prediction = torch.argmax(model(images), dim=1)\n",
    "        correct = (prediction == labels).sum()\n",
    "        print(labels)\n",
    "        print(prediction)\n",
    "        idx = torch.argmin(labels).item()\n",
    "        print(idx)\n",
    "        print(\"True labels\")\n",
    "        print(labels[idx].item())\n",
    "        print(f\"Actual: {label_map[labels[idx].item()]}\")\n",
    "        print(f\"Prediction: {label_map[prediction[idx].item()]}\")\n",
    "        display_image(images[idx].cpu())\n",
    "        break"
   ]
  },
  {
   "cell_type": "code",
   "execution_count": null,
   "id": "260fd51e-35a4-4e14-8c2f-fff6401bdf7c",
   "metadata": {},
   "outputs": [],
   "source": [
    "display_image_from_path(\"./data/tiny-imagenet-200/val/images/val_0.JPEG\")"
   ]
  },
  {
   "cell_type": "code",
   "execution_count": null,
   "id": "6e9a9a72-90f7-4497-a09b-94a568a8114e",
   "metadata": {},
   "outputs": [],
   "source": [
    "label_map = map_strings_to_line_numbers(\"./data/tiny-imagenet-200/wnids.txt\")\n",
    "label_map[\"n07749582\"]"
   ]
  }
 ],
 "metadata": {
  "kernelspec": {
   "display_name": "Python [conda env:.conda-pml_env_dist] *",
   "language": "python",
   "name": "conda-env-.conda-pml_env_dist-py"
  },
  "language_info": {
   "codemirror_mode": {
    "name": "ipython",
    "version": 3
   },
   "file_extension": ".py",
   "mimetype": "text/x-python",
   "name": "python",
   "nbconvert_exporter": "python",
   "pygments_lexer": "ipython3",
   "version": "3.13.3"
  }
 },
 "nbformat": 4,
 "nbformat_minor": 5
}
