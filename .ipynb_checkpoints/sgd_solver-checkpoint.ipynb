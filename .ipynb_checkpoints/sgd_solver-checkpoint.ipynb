{
 "cells": [
  {
   "cell_type": "markdown",
   "id": "3480639e-082d-422d-92d7-864f9de5ec45",
   "metadata": {},
   "source": [
    "Create a baseline model which will be used to hotstart training for SWA-related implementations"
   ]
  },
  {
   "cell_type": "code",
   "execution_count": 1,
   "id": "1a9ce624",
   "metadata": {},
   "outputs": [],
   "source": [
    "from loaders import (\n",
    "    tiny_imagenet_train_loader, \n",
    "    tiny_imagenet_val_loader,\n",
    "    tiny_imagenet_corrupted_loader\n",
    ")\n",
    "import torch\n",
    "from torchvision import models\n",
    "from torch.nn import CrossEntropyLoss\n",
    "from torch.optim import SGD\n",
    "from torch.optim.swa_utils import AveragedModel, SWALR\n",
    "from tqdm.notebook import tqdm"
   ]
  },
  {
   "cell_type": "code",
   "execution_count": 2,
   "id": "a6489f86",
   "metadata": {},
   "outputs": [
    {
     "ename": "NameError",
     "evalue": "name 'nn' is not defined",
     "output_type": "error",
     "traceback": [
      "\u001b[31m---------------------------------------------------------------------------\u001b[39m",
      "\u001b[31mNameError\u001b[39m                                 Traceback (most recent call last)",
      "\u001b[36mCell\u001b[39m\u001b[36m \u001b[39m\u001b[32mIn[2]\u001b[39m\u001b[32m, line 7\u001b[39m\n\u001b[32m      5\u001b[39m val_loader = tiny_imagenet_val_loader(batch_size=\u001b[32m128\u001b[39m, num_workers=\u001b[32m1\u001b[39m)\n\u001b[32m      6\u001b[39m model = models.resnet18()\n\u001b[32m----> \u001b[39m\u001b[32m7\u001b[39m model.fc = \u001b[43mnn\u001b[49m.Linear(model.fc.in_features, NUM_CLASSES)\n\u001b[32m      8\u001b[39m optimizer = SGD(model.parameters(), lr=\u001b[32m0.01\u001b[39m)\n\u001b[32m      9\u001b[39m loss_fn = CrossEntropyLoss()\n",
      "\u001b[31mNameError\u001b[39m: name 'nn' is not defined"
     ]
    }
   ],
   "source": [
    "# Base model parameters\n",
    "NUM_CLASSES = 200\n",
    "\n",
    "train_loader = tiny_imagenet_train_loader(batch_size=128, num_workers=1)\n",
    "val_loader = tiny_imagenet_val_loader(batch_size=128, num_workers=1)\n",
    "model = models.resnet18()\n",
    "model.fc = torhc.nn.Linear(model.fc.in_features, NUM_CLASSES)\n",
    "optimizer = SGD(model.parameters(), lr=0.01)\n",
    "loss_fn = CrossEntropyLoss()\n",
    "device = torch.device(\"cuda\" if torch.cuda.is_available() else \"cpu\")\n",
    "print(f\"Using device {device}\")\n",
    "epochs = 100\n",
    "\n",
    "model.to(device)"
   ]
  },
  {
   "cell_type": "code",
   "execution_count": null,
   "id": "45112f08",
   "metadata": {},
   "outputs": [],
   "source": [
    "# Check the model parameters\n",
    "num_params = sum(p.numel() for p in model.parameters() if p.requires_grad)\n",
    "print(num_params)"
   ]
  },
  {
   "cell_type": "code",
   "execution_count": null,
   "id": "f58a99f6-2582-40a9-91bb-1f51e95188b5",
   "metadata": {},
   "outputs": [],
   "source": [
    "# Validation\n",
    "def validate(model, loader):\n",
    "    model.evaluate()\n",
    "    with torch.no_grad():\n",
    "        for images, labels in loader:\n",
    "            prediction = model(images)\n",
    "            "
   ]
  },
  {
   "cell_type": "code",
   "execution_count": null,
   "id": "293df392",
   "metadata": {},
   "outputs": [],
   "source": [
    "# Train the model on ImageNet\n",
    "for epoch in tqdm(range(epochs), desc=\"Training\", leave=False):\n",
    "    print(f\"Epoch {epoch + 1}/{epochs}\")\n",
    "    \n",
    "    for images, labels in train_loader:\n",
    "        images, labels = images.to(device), labels.to(device)\n",
    "\n",
    "        optimizer.zero_grad()\n",
    "        loss_fn(model(images), labels).backward()\n",
    "        optimizer.step() \n",
    "    scheduler.step()\n",
    "\n",
    "    if epoch % 5 == 0:\n",
    "        torch.save(model.state_dict(), \"./models/sgd_model2.pt\")"
   ]
  },
  {
   "cell_type": "code",
   "execution_count": null,
   "id": "05ecc714-a90b-4daa-aa05-f3701523a481",
   "metadata": {},
   "outputs": [],
   "source": [
    "# Save the model\n",
    "torch.save(model.state_dict(), \"./models/sgd_model2.pt\")"
   ]
  },
  {
   "cell_type": "code",
   "execution_count": null,
   "id": "c729fe59-2832-48ca-9683-1917dd07ffad",
   "metadata": {},
   "outputs": [],
   "source": [
    "def evaluate_model(model, loader):\n",
    "    \"\"\" Return the accuracy of the model on the given data set (percentage correct labels assigned) \"\"\"\n",
    "    total_correct = 0\n",
    "    total = 0\n",
    "    model.eval()\n",
    "    with torch.no_grad():\n",
    "        for images, labels in tqdm(loader, desc=\"Testing\", leave=False):\n",
    "            images, labels = images.to(device), labels.to(device)\n",
    "            prediction = model(images)\n",
    "            correct = (torch.argmax(prediction, dim=1) == labels).sum()\n",
    "            total += 128\n",
    "            total_correct += correct\n",
    "\n",
    "    return total_correct/total"
   ]
  },
  {
   "cell_type": "code",
   "execution_count": null,
   "id": "44f658fe-be6c-4dba-8e76-d8d4434f5113",
   "metadata": {},
   "outputs": [],
   "source": [
    "model = models.resnet18()\n",
    "model.fc = nn.Linear(model.fc.in_features, NUM_CLASSES)\n",
    "model.load_state_dict(torch.load(\"./models/sgd_model2.pt\", weights_only=True))\n",
    "model.to(device)\n",
    "\n",
    "val_accuracy = evaluate_model(model, val_loader)\n",
    "print(f\"Val Accuracy: {val_accuracy}\")\n"
   ]
  },
  {
   "cell_type": "code",
   "execution_count": null,
   "id": "804f1736-664c-4c43-a576-bbc4ecdf4cc6",
   "metadata": {},
   "outputs": [],
   "source": [
    "print(\"Test Accuracy:\")\n",
    "\n",
    "corruptions = [\"brightness\", \"contrast\", \"defocus_blur\"]\n",
    "\n",
    "for corruption in corruptions:\n",
    "    for level in range(1, 3):\n",
    "        test_loader = tiny_imagenet_corrupted_loader(\n",
    "            corruption,\n",
    "            severity=level,\n",
    "            batch_size=128,\n",
    "            root='./data/Tiny-ImageNet-C',\n",
    "            num_workers=1\n",
    "        )\n",
    "        test_accuracy = evaluate_model(model, test_loader)\n",
    "    \n",
    "        print(f\"{corruption} L{level}: {test_accuracy}\")"
   ]
  }
 ],
 "metadata": {
  "kernelspec": {
   "display_name": "Python [conda env:.conda-pml_env_dist] *",
   "language": "python",
   "name": "conda-env-.conda-pml_env_dist-py"
  },
  "language_info": {
   "codemirror_mode": {
    "name": "ipython",
    "version": 3
   },
   "file_extension": ".py",
   "mimetype": "text/x-python",
   "name": "python",
   "nbconvert_exporter": "python",
   "pygments_lexer": "ipython3",
   "version": "3.13.3"
  }
 },
 "nbformat": 4,
 "nbformat_minor": 5
}
