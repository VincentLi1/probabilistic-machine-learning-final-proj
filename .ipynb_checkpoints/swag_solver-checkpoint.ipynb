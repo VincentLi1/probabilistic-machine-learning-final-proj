{
 "cells": [
  {
   "cell_type": "markdown",
   "id": "8e04ede0-d040-41e7-9da7-8b3e6e6c0d3e",
   "metadata": {},
   "source": [
    "SWAG solver, as outlined in \"A Simple Baseline for Bayesian Uncertainty in Deep Learning\" (Maddox et al, 2019). SWAG model code modified from the associated [GitHub](https://github.com/wjmaddox/swa_gaussian/tree/master)"
   ]
  },
  {
   "cell_type": "code",
   "execution_count": 1,
   "id": "1a9ce624",
   "metadata": {},
   "outputs": [],
   "source": [
    "from loaders import tiny_imagenet_loader, tiny_imagenet_corrupted_loader\n",
    "import torch\n",
    "from torchvision import models\n",
    "from torch.nn import CrossEntropyLoss\n",
    "from torch.optim import SGD\n",
    "from torch.optim.swa_utils import AveragedModel, SWALR\n",
    "from tqdm.notebook import tqdm\n",
    "\n",
    "from swag.posteriors import SWAG"
   ]
  },
  {
   "cell_type": "code",
   "execution_count": null,
   "id": "a6489f86",
   "metadata": {},
   "outputs": [],
   "source": [
    "NUM_CLASSES = 200\n",
    "\n",
    "# Load in hotstarted model\n",
    "hotstart_path = \"./models/sgd_model.pt\"\n",
    "base_model = models.resnet18()\n",
    "base_model.fc = nn.Linear(base_model.fc.in_features, NUM_CLASSES)\n",
    "\n",
    "# TODO: Check on the number of models\n",
    "model = SWAG(\n",
    "    base_model, \n",
    "    no_cov_matrix=False,\n",
    ")\n",
    "\n",
    "model.load_state_dict(torch.load(hotstart_path, weights_only=True))\n",
    "\n",
    "# Training details\n",
    "optimizer = SGD(model.parameters(), lr=0.01)\n",
    "loss_fn = CrossEntropyLoss()\n",
    "device = torch.device(\"cuda\" if torch.cuda.is_available() else \"cpu\")\n",
    "print(f\"Using device {device}\")\n",
    "model.to(device)\n",
    "\n",
    "# SWAG model details\n",
    "swa_model = AveragedModel(model)\n",
    "swa_model.to(device)\n",
    "swa_scheduler = SWALR(optimizer, swa_lr=0.05)\n",
    "\n",
    "# Remember this is the number of epochs after pretraining\n",
    "epochs = 30\n",
    "\n",
    "# Create Loaders\n",
    "train_loader = tiny_imagenet_loader(split=\"train\", batch_size=128, num_workers=1)\n",
    "val_loader = tiny_imagenet_loader(split=\"val\", batch_size=128, num_workers=1)"
   ]
  },
  {
   "cell_type": "code",
   "execution_count": null,
   "id": "293df392",
   "metadata": {},
   "outputs": [],
   "source": [
    "# Implement SAW portion of training for the model on ImageNet\n",
    "for epoch in tqdm(range(epochs), desc=\"Training\", leave=False):\n",
    "    print(f\"Epoch {epoch + 1}/{epochs}\")\n",
    "    \n",
    "    for images, labels in train_loader:\n",
    "        images, labels = images.to(device), labels.to(device)\n",
    "\n",
    "        optimizer.zero_grad()\n",
    "        loss_fn(model(images), labels).backward()\n",
    "        optimizer.step()\n",
    "    \n",
    "    # Schedule learning rate with SWA\n",
    "    swa_model.update_parameters(model)\n",
    "    swa_scheduler.step()"
   ]
  },
  {
   "cell_type": "code",
   "execution_count": null,
   "id": "05ecc714-a90b-4daa-aa05-f3701523a481",
   "metadata": {},
   "outputs": [],
   "source": [
    "# Save the model\n",
    "torch.save(model.state_dict(), \"./models/swa_model.pt\")"
   ]
  },
  {
   "cell_type": "code",
   "execution_count": null,
   "id": "c729fe59-2832-48ca-9683-1917dd07ffad",
   "metadata": {},
   "outputs": [],
   "source": [
    "def evaluate_model(model, loader):\n",
    "    \"\"\" Return the accuracy of the model on the given data set (percentage correct labels assigned) \"\"\"\n",
    "    total_correct = 0\n",
    "    total = 0\n",
    "    model.eval()\n",
    "    with torch.no_grad():\n",
    "        for images, labels in tqdm(loader, desc=\"Testing\", leave=False):\n",
    "            images, labels = images.to(device), labels.to(device)\n",
    "            prediction = model(images)\n",
    "            correct = (torch.argmax(prediction, dim=1) == labels).sum()\n",
    "            total += 128\n",
    "            total_correct += correct\n",
    "\n",
    "    return total_correct/total"
   ]
  },
  {
   "cell_type": "code",
   "execution_count": null,
   "id": "44f658fe-be6c-4dba-8e76-d8d4434f5113",
   "metadata": {},
   "outputs": [],
   "source": [
    "model = models.resnet18()\n",
    "model.load_state_dict(torch.load(\"./models/swa_model.pt\", weights_only=True))\n",
    "model.to(device)\n",
    "\n",
    "val_accuracy = evaluate_model(model, val_loader)\n",
    "print(f\"Val Accuracy: {val_accuracy}\")\n"
   ]
  },
  {
   "cell_type": "code",
   "execution_count": null,
   "id": "804f1736-664c-4c43-a576-bbc4ecdf4cc6",
   "metadata": {},
   "outputs": [],
   "source": [
    "print(\"Test Accuracy:\")\n",
    "\n",
    "corruptions = [\"brightness\", \"contrast\", \"defocus_blur\"]\n",
    "\n",
    "for corruption in corruptions:\n",
    "    for level in range(1, 3):\n",
    "        test_loader = tiny_imagenet_corrupted_loader(\n",
    "            corruption,\n",
    "            severity=level,\n",
    "            batch_size=128,\n",
    "            root='./data/Tiny-ImageNet-C',\n",
    "            num_workers=1\n",
    "        )\n",
    "        test_accuracy = evaluate_model(model, test_loader)\n",
    "    \n",
    "        print(f\"{corruption} L{level}: {test_accuracy}\")"
   ]
  }
 ],
 "metadata": {
  "kernelspec": {
   "display_name": "Python [conda env:.conda-pml_env_dist] *",
   "language": "python",
   "name": "conda-env-.conda-pml_env_dist-py"
  },
  "language_info": {
   "codemirror_mode": {
    "name": "ipython",
    "version": 3
   },
   "file_extension": ".py",
   "mimetype": "text/x-python",
   "name": "python",
   "nbconvert_exporter": "python",
   "pygments_lexer": "ipython3",
   "version": "3.13.3"
  }
 },
 "nbformat": 4,
 "nbformat_minor": 5
}
